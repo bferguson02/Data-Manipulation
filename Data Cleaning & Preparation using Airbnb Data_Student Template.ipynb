{
 "cells": [
  {
   "cell_type": "markdown",
   "metadata": {},
   "source": [
    "# Data Cleaning & Preparation\n",
    "## Using Airbnb Data\n",
    "\n",
    "<img src='airbnb_photo.JPG'>\n",
    "<i>Image by <a href=\"https://pixabay.com/users/instagramfotografin-5746148/?utm_source=link-attribution&amp;utm_medium=referral&amp;utm_campaign=image&amp;utm_content=3399753\">InstagramFOTOGRAFIN</a> from <a href=\"https://pixabay.com/?utm_source=link-attribution&amp;utm_medium=referral&amp;utm_campaign=image&amp;utm_content=3399753\">Pixabay</a></i>\n",
    "\n",
    "It is often said that an analyst spends 80% or more of their time on data preparation tasks such as cleaning, transforming and rearranging data. In this module, we will discuss ways to handle missing data, duplicate data, string manipulation and other types of transformations.\n",
    "\n",
    "When we first explore a topic, we will use a simple example to explain the process. Then you will practice by implementing a similar transformation using a real world dataset in a more complex way.\n",
    "\n",
    "For this module, we will be working with data from [Airbnb](https://www.airbnb.com/), one of the top travel websites where hosts can list their properties or rooms for vacation rental. The ultimate goal of working with this data is to see if we can predict a property's price based on its specific attributes. We will specifically be using data from Vienna, Austria.\n",
    "\n",
    "The Airbnb city data comes from [Inside Airbnb](http://insideairbnb.com/get-the-data.html), an investigatory website that focuses on highlighting illegal renting through Airbnb and how Airbnb affects property values in an area. The data is sourced directly from the Airbnb website and is updated monthly. \n",
    "\n",
    "The data is ‘messy’ with long text fields, large amounts of missing data and many features that might not have any correlation with prices. An example of the ‘messiness’ of the data can be found in the ‘amenities’ feature. Each property has a list of amenities that it provides, some standard from the Airbnb website and some that are entered directly by the property owners. This data will need to be pulled apart and cleaned, with new features added based on these amenities.\n",
    "\n",
    "**Note 1:** In order to better show examples of data transformations, some of the data has been adjusted for teaching purposes. If you want to do any further data analysis, please download the actual data from the link above.\n",
    "\n",
    "**Note 2:** We are only using Pandas and Numpy for these data transformations. In future classes, you will learn about additional, sometimes easier, options such as using Scikit-learn for some of these transformations. But even these options use Pandas and Numpy as their base."
   ]
  },
  {
   "cell_type": "markdown",
   "metadata": {},
   "source": [
    "## Table of Contents\n",
    "1. [Import Data](#import)\n",
    "2. [Initial Data Exploration](#exploration)\n",
    "3. [Missing Data](#missing)\n",
    "[<ul>Filtering Missing Data</ul>](#filter)\n",
    "[<ul>Dropping Missing Data</ul>](#drop)\n",
    "[<ul>Filling Missing Data</ul>](#filling)\n",
    "4. [Data Transformation](#transformation)\n",
    "[<ul>Removing Duplicates</ul>](#remove_dupes)\n",
    "[<ul>Transforming Data Using a Function or Mapping</ul>](#map)\n",
    "[<ul>Replacing Values</ul>](#replace)\n",
    "[<ul>Binning</ul>](#bin)\n",
    "[<ul>Detecting & Filtering Outliers</ul>](#outlier)\n",
    "[<ul>Dummy Variables</ul>](#dummy)\n",
    "5. [String Manipulation](#string)\n",
    "[<ul>String Object Methods</ul>](#string_object)\n",
    "[<ul>Regular Expressions</ul>](#regex)\n",
    "6. [Extra Practice](#import)\n",
    "7. [Conclusion](#conclusion)"
   ]
  },
  {
   "cell_type": "markdown",
   "metadata": {},
   "source": [
    "## Import Data<a name=\"import\"></a>"
   ]
  },
  {
   "cell_type": "code",
   "execution_count": 1,
   "metadata": {
    "code_folding": [],
    "hide_input": false
   },
   "outputs": [],
   "source": [
    "import pandas as pd\n",
    "import numpy as np\n",
    "import matplotlib as mpl\n",
    "import matplotlib.pyplot as plt\n",
    "import seaborn as sns\n",
    "\n",
    "# set display columns to max so that we can view all columns\n",
    "pd.set_option('display.max_columns', None)"
   ]
  },
  {
   "cell_type": "code",
   "execution_count": 2,
   "metadata": {
    "code_folding": [],
    "hide_input": false
   },
   "outputs": [],
   "source": [
    "# import the Vienna dataset\n",
    "vienna_raw = pd.read_csv('listings_vienna.csv', index_col='id')\n",
    "\n",
    "# saving raw data as new dataframe for exploration\n",
    "vienna = vienna_raw.copy()"
   ]
  },
  {
   "cell_type": "markdown",
   "metadata": {},
   "source": [
    "## Initial Data Exploration<a name=\"exploration\"></a>"
   ]
  },
  {
   "cell_type": "code",
   "execution_count": 3,
   "metadata": {},
   "outputs": [
    {
     "data": {
      "text/html": [
       "<div>\n",
       "<style scoped>\n",
       "    .dataframe tbody tr th:only-of-type {\n",
       "        vertical-align: middle;\n",
       "    }\n",
       "\n",
       "    .dataframe tbody tr th {\n",
       "        vertical-align: top;\n",
       "    }\n",
       "\n",
       "    .dataframe thead th {\n",
       "        text-align: right;\n",
       "    }\n",
       "</style>\n",
       "<table border=\"1\" class=\"dataframe\">\n",
       "  <thead>\n",
       "    <tr style=\"text-align: right;\">\n",
       "      <th></th>\n",
       "      <th>listing_url</th>\n",
       "      <th>scrape_id</th>\n",
       "      <th>last_scraped</th>\n",
       "      <th>name</th>\n",
       "      <th>description</th>\n",
       "      <th>neighborhood_overview</th>\n",
       "      <th>picture_url</th>\n",
       "      <th>host_id</th>\n",
       "      <th>host_url</th>\n",
       "      <th>host_name</th>\n",
       "      <th>host_since</th>\n",
       "      <th>host_location</th>\n",
       "      <th>host_about</th>\n",
       "      <th>host_response_time</th>\n",
       "      <th>host_response_rate</th>\n",
       "      <th>host_acceptance_rate</th>\n",
       "      <th>host_is_superhost</th>\n",
       "      <th>host_thumbnail_url</th>\n",
       "      <th>host_picture_url</th>\n",
       "      <th>host_neighbourhood</th>\n",
       "      <th>host_listings_count</th>\n",
       "      <th>host_total_listings_count</th>\n",
       "      <th>host_verifications</th>\n",
       "      <th>host_has_profile_pic</th>\n",
       "      <th>host_identity_verified</th>\n",
       "      <th>neighbourhood</th>\n",
       "      <th>neighbourhood_cleansed</th>\n",
       "      <th>neighbourhood_group_cleansed</th>\n",
       "      <th>latitude</th>\n",
       "      <th>longitude</th>\n",
       "      <th>property_type</th>\n",
       "      <th>room_type</th>\n",
       "      <th>accommodates</th>\n",
       "      <th>bathrooms</th>\n",
       "      <th>bathrooms_text</th>\n",
       "      <th>bedrooms</th>\n",
       "      <th>beds</th>\n",
       "      <th>amenities</th>\n",
       "      <th>price</th>\n",
       "      <th>minimum_nights</th>\n",
       "      <th>maximum_nights</th>\n",
       "      <th>minimum_minimum_nights</th>\n",
       "      <th>maximum_minimum_nights</th>\n",
       "      <th>minimum_maximum_nights</th>\n",
       "      <th>maximum_maximum_nights</th>\n",
       "      <th>minimum_nights_avg_ntm</th>\n",
       "      <th>maximum_nights_avg_ntm</th>\n",
       "      <th>calendar_updated</th>\n",
       "      <th>has_availability</th>\n",
       "      <th>availability_30</th>\n",
       "      <th>availability_60</th>\n",
       "      <th>availability_90</th>\n",
       "      <th>availability_365</th>\n",
       "      <th>calendar_last_scraped</th>\n",
       "      <th>number_of_reviews</th>\n",
       "      <th>number_of_reviews_ltm</th>\n",
       "      <th>number_of_reviews_l30d</th>\n",
       "      <th>first_review</th>\n",
       "      <th>last_review</th>\n",
       "      <th>review_scores_rating</th>\n",
       "      <th>review_scores_accuracy</th>\n",
       "      <th>review_scores_cleanliness</th>\n",
       "      <th>review_scores_checkin</th>\n",
       "      <th>review_scores_communication</th>\n",
       "      <th>review_scores_location</th>\n",
       "      <th>review_scores_value</th>\n",
       "      <th>license</th>\n",
       "      <th>instant_bookable</th>\n",
       "      <th>calculated_host_listings_count</th>\n",
       "      <th>calculated_host_listings_count_entire_homes</th>\n",
       "      <th>calculated_host_listings_count_private_rooms</th>\n",
       "      <th>calculated_host_listings_count_shared_rooms</th>\n",
       "      <th>reviews_per_month</th>\n",
       "    </tr>\n",
       "    <tr>\n",
       "      <th>id</th>\n",
       "      <th></th>\n",
       "      <th></th>\n",
       "      <th></th>\n",
       "      <th></th>\n",
       "      <th></th>\n",
       "      <th></th>\n",
       "      <th></th>\n",
       "      <th></th>\n",
       "      <th></th>\n",
       "      <th></th>\n",
       "      <th></th>\n",
       "      <th></th>\n",
       "      <th></th>\n",
       "      <th></th>\n",
       "      <th></th>\n",
       "      <th></th>\n",
       "      <th></th>\n",
       "      <th></th>\n",
       "      <th></th>\n",
       "      <th></th>\n",
       "      <th></th>\n",
       "      <th></th>\n",
       "      <th></th>\n",
       "      <th></th>\n",
       "      <th></th>\n",
       "      <th></th>\n",
       "      <th></th>\n",
       "      <th></th>\n",
       "      <th></th>\n",
       "      <th></th>\n",
       "      <th></th>\n",
       "      <th></th>\n",
       "      <th></th>\n",
       "      <th></th>\n",
       "      <th></th>\n",
       "      <th></th>\n",
       "      <th></th>\n",
       "      <th></th>\n",
       "      <th></th>\n",
       "      <th></th>\n",
       "      <th></th>\n",
       "      <th></th>\n",
       "      <th></th>\n",
       "      <th></th>\n",
       "      <th></th>\n",
       "      <th></th>\n",
       "      <th></th>\n",
       "      <th></th>\n",
       "      <th></th>\n",
       "      <th></th>\n",
       "      <th></th>\n",
       "      <th></th>\n",
       "      <th></th>\n",
       "      <th></th>\n",
       "      <th></th>\n",
       "      <th></th>\n",
       "      <th></th>\n",
       "      <th></th>\n",
       "      <th></th>\n",
       "      <th></th>\n",
       "      <th></th>\n",
       "      <th></th>\n",
       "      <th></th>\n",
       "      <th></th>\n",
       "      <th></th>\n",
       "      <th></th>\n",
       "      <th></th>\n",
       "      <th></th>\n",
       "      <th></th>\n",
       "      <th></th>\n",
       "      <th></th>\n",
       "      <th></th>\n",
       "      <th></th>\n",
       "    </tr>\n",
       "  </thead>\n",
       "  <tbody>\n",
       "    <tr>\n",
       "      <th>15883</th>\n",
       "      <td>https://www.airbnb.com/rooms/15883</td>\n",
       "      <td>2.020000e+13</td>\n",
       "      <td>4/15/2021</td>\n",
       "      <td>b&amp;b near Old Danube river</td>\n",
       "      <td>Four rooms, each one differently and individua...</td>\n",
       "      <td>small and personal&lt;br /&gt;&lt;br /&gt;Four rooms at th...</td>\n",
       "      <td>https://a0.muscache.com/pictures/18eff738-a737...</td>\n",
       "      <td>62142.0</td>\n",
       "      <td>https://www.airbnb.com/users/show/62142</td>\n",
       "      <td>Eva</td>\n",
       "      <td>12/11/2009</td>\n",
       "      <td>Vienna, Wien, Austria</td>\n",
       "      <td>Mein größtes Hobby: Reisen! Am liebsten mit me...</td>\n",
       "      <td>NaN</td>\n",
       "      <td>NaN</td>\n",
       "      <td>100%</td>\n",
       "      <td>f</td>\n",
       "      <td>https://a0.muscache.com/im/pictures/user/24166...</td>\n",
       "      <td>https://a0.muscache.com/im/pictures/user/24166...</td>\n",
       "      <td>Donaustadt</td>\n",
       "      <td>6.0</td>\n",
       "      <td>6.0</td>\n",
       "      <td>['email', 'phone', 'facebook', 'reviews', 'jum...</td>\n",
       "      <td>t</td>\n",
       "      <td>t</td>\n",
       "      <td>Vienna, Austria</td>\n",
       "      <td>Donaustadt</td>\n",
       "      <td>NaN</td>\n",
       "      <td>48.24262</td>\n",
       "      <td>16.42767</td>\n",
       "      <td>Room in bed and breakfast</td>\n",
       "      <td>Hotel room</td>\n",
       "      <td>3.0</td>\n",
       "      <td>NaN</td>\n",
       "      <td>1 bath</td>\n",
       "      <td>1.0</td>\n",
       "      <td>2.0</td>\n",
       "      <td>[\"Hot water\", \"High chair\", \"Essentials\", \"Hai...</td>\n",
       "      <td>$87.00</td>\n",
       "      <td>1.0</td>\n",
       "      <td>365.0</td>\n",
       "      <td>1.0</td>\n",
       "      <td>1.0</td>\n",
       "      <td>365.0</td>\n",
       "      <td>365.0</td>\n",
       "      <td>1.0</td>\n",
       "      <td>365.0</td>\n",
       "      <td>NaN</td>\n",
       "      <td>t</td>\n",
       "      <td>30.0</td>\n",
       "      <td>60.0</td>\n",
       "      <td>90.0</td>\n",
       "      <td>365.0</td>\n",
       "      <td>4/15/2021</td>\n",
       "      <td>11.0</td>\n",
       "      <td>0.0</td>\n",
       "      <td>0.0</td>\n",
       "      <td>4/10/2015</td>\n",
       "      <td>2/19/2020</td>\n",
       "      <td>95.0</td>\n",
       "      <td>10.0</td>\n",
       "      <td>10.0</td>\n",
       "      <td>10.0</td>\n",
       "      <td>10.0</td>\n",
       "      <td>9.0</td>\n",
       "      <td>9.0</td>\n",
       "      <td>NaN</td>\n",
       "      <td>t</td>\n",
       "      <td>4.0</td>\n",
       "      <td>2.0</td>\n",
       "      <td>0.0</td>\n",
       "      <td>0.0</td>\n",
       "      <td>0.15</td>\n",
       "    </tr>\n",
       "    <tr>\n",
       "      <th>38768</th>\n",
       "      <td>https://www.airbnb.com/rooms/38768</td>\n",
       "      <td>2.020000e+13</td>\n",
       "      <td>4/15/2021</td>\n",
       "      <td>central cityapartement- wifi- nice neighbourhood</td>\n",
       "      <td>39m² apartment with beautiful courtyard of the...</td>\n",
       "      <td>the Karmeliterviertel became very popular in t...</td>\n",
       "      <td>https://a0.muscache.com/pictures/ad4089a3-5355...</td>\n",
       "      <td>166283.0</td>\n",
       "      <td>https://www.airbnb.com/users/show/166283</td>\n",
       "      <td>Hannes</td>\n",
       "      <td>7/14/2010</td>\n",
       "      <td>Vienna, Wien, Austria</td>\n",
       "      <td>I am open minded and like travelling myself. I...</td>\n",
       "      <td>within an hour</td>\n",
       "      <td>100%</td>\n",
       "      <td>98%</td>\n",
       "      <td>t</td>\n",
       "      <td>https://a0.muscache.com/im/users/166283/profil...</td>\n",
       "      <td>https://a0.muscache.com/im/users/166283/profil...</td>\n",
       "      <td>Leopoldstadt</td>\n",
       "      <td>3.0</td>\n",
       "      <td>3.0</td>\n",
       "      <td>['email', 'phone', 'reviews', 'jumio', 'offlin...</td>\n",
       "      <td>t</td>\n",
       "      <td>t</td>\n",
       "      <td>Vienna, Austria</td>\n",
       "      <td>Leopoldstadt</td>\n",
       "      <td>NaN</td>\n",
       "      <td>48.21924</td>\n",
       "      <td>16.37831</td>\n",
       "      <td>Entire apartment</td>\n",
       "      <td>Entire home/apt</td>\n",
       "      <td>5.0</td>\n",
       "      <td>NaN</td>\n",
       "      <td>1 bath</td>\n",
       "      <td>1.0</td>\n",
       "      <td>3.0</td>\n",
       "      <td>[\"Cooking basics\", \"Shampoo\", \"Kitchen\", \"Host...</td>\n",
       "      <td>$60.00</td>\n",
       "      <td>3.0</td>\n",
       "      <td>100.0</td>\n",
       "      <td>3.0</td>\n",
       "      <td>3.0</td>\n",
       "      <td>100.0</td>\n",
       "      <td>100.0</td>\n",
       "      <td>3.0</td>\n",
       "      <td>100.0</td>\n",
       "      <td>NaN</td>\n",
       "      <td>t</td>\n",
       "      <td>0.0</td>\n",
       "      <td>0.0</td>\n",
       "      <td>18.0</td>\n",
       "      <td>109.0</td>\n",
       "      <td>4/15/2021</td>\n",
       "      <td>324.0</td>\n",
       "      <td>11.0</td>\n",
       "      <td>0.0</td>\n",
       "      <td>3/23/2011</td>\n",
       "      <td>10/10/2020</td>\n",
       "      <td>95.0</td>\n",
       "      <td>10.0</td>\n",
       "      <td>9.0</td>\n",
       "      <td>10.0</td>\n",
       "      <td>10.0</td>\n",
       "      <td>10.0</td>\n",
       "      <td>10.0</td>\n",
       "      <td>NaN</td>\n",
       "      <td>f</td>\n",
       "      <td>3.0</td>\n",
       "      <td>3.0</td>\n",
       "      <td>0.0</td>\n",
       "      <td>0.0</td>\n",
       "      <td>2.64</td>\n",
       "    </tr>\n",
       "    <tr>\n",
       "      <th>40625</th>\n",
       "      <td>https://www.airbnb.com/rooms/40625</td>\n",
       "      <td>2.020000e+13</td>\n",
       "      <td>4/15/2021</td>\n",
       "      <td>Near Palace Schönbrunn, Apt. 1</td>\n",
       "      <td>Welcome to my Apt. 1!&lt;br /&gt;&lt;br /&gt;This is a 2be...</td>\n",
       "      <td>The neighbourhood offers plenty of restaurants...</td>\n",
       "      <td>https://a0.muscache.com/pictures/11509144/d55c...</td>\n",
       "      <td>175131.0</td>\n",
       "      <td>https://www.airbnb.com/users/show/175131</td>\n",
       "      <td>Ingela</td>\n",
       "      <td>7/20/2010</td>\n",
       "      <td>Vienna, Wien, Austria</td>\n",
       "      <td>I´m originally from Sweden but have been livin...</td>\n",
       "      <td>within a few hours</td>\n",
       "      <td>90%</td>\n",
       "      <td>74%</td>\n",
       "      <td>t</td>\n",
       "      <td>https://a0.muscache.com/im/users/175131/profil...</td>\n",
       "      <td>https://a0.muscache.com/im/users/175131/profil...</td>\n",
       "      <td>Rudolfsheim-Fünfhaus</td>\n",
       "      <td>16.0</td>\n",
       "      <td>16.0</td>\n",
       "      <td>['email', 'phone', 'reviews', 'jumio', 'govern...</td>\n",
       "      <td>t</td>\n",
       "      <td>t</td>\n",
       "      <td>Vienna, Austria</td>\n",
       "      <td>Rudolfsheim-Fnfhaus</td>\n",
       "      <td>NaN</td>\n",
       "      <td>48.18434</td>\n",
       "      <td>16.32701</td>\n",
       "      <td>Entire apartment</td>\n",
       "      <td>Entire home/apt</td>\n",
       "      <td>6.0</td>\n",
       "      <td>NaN</td>\n",
       "      <td>1 bath</td>\n",
       "      <td>2.0</td>\n",
       "      <td>4.0</td>\n",
       "      <td>[\"Cooking basics\", \"Children\\u2019s books and ...</td>\n",
       "      <td>$88.00</td>\n",
       "      <td>1.0</td>\n",
       "      <td>180.0</td>\n",
       "      <td>1.0</td>\n",
       "      <td>1.0</td>\n",
       "      <td>180.0</td>\n",
       "      <td>180.0</td>\n",
       "      <td>1.0</td>\n",
       "      <td>180.0</td>\n",
       "      <td>NaN</td>\n",
       "      <td>t</td>\n",
       "      <td>30.0</td>\n",
       "      <td>60.0</td>\n",
       "      <td>90.0</td>\n",
       "      <td>365.0</td>\n",
       "      <td>4/15/2021</td>\n",
       "      <td>156.0</td>\n",
       "      <td>3.0</td>\n",
       "      <td>0.0</td>\n",
       "      <td>8/4/2010</td>\n",
       "      <td>2/15/2021</td>\n",
       "      <td>97.0</td>\n",
       "      <td>10.0</td>\n",
       "      <td>10.0</td>\n",
       "      <td>10.0</td>\n",
       "      <td>10.0</td>\n",
       "      <td>9.0</td>\n",
       "      <td>9.0</td>\n",
       "      <td>NaN</td>\n",
       "      <td>t</td>\n",
       "      <td>15.0</td>\n",
       "      <td>14.0</td>\n",
       "      <td>1.0</td>\n",
       "      <td>0.0</td>\n",
       "      <td>1.20</td>\n",
       "    </tr>\n",
       "    <tr>\n",
       "      <th>51287</th>\n",
       "      <td>https://www.airbnb.com/rooms/51287</td>\n",
       "      <td>2.020000e+13</td>\n",
       "      <td>4/16/2021</td>\n",
       "      <td>little studio- next to citycenter- wifi- nice ...</td>\n",
       "      <td>small studio in new renovated old house and ve...</td>\n",
       "      <td>The neighbourhood has a lot of very nice littl...</td>\n",
       "      <td>https://a0.muscache.com/pictures/25163038/1c4e...</td>\n",
       "      <td>166283.0</td>\n",
       "      <td>https://www.airbnb.com/users/show/166283</td>\n",
       "      <td>Hannes</td>\n",
       "      <td>7/14/2010</td>\n",
       "      <td>Vienna, Wien, Austria</td>\n",
       "      <td>I am open minded and like travelling myself. I...</td>\n",
       "      <td>within an hour</td>\n",
       "      <td>100%</td>\n",
       "      <td>98%</td>\n",
       "      <td>t</td>\n",
       "      <td>https://a0.muscache.com/im/users/166283/profil...</td>\n",
       "      <td>https://a0.muscache.com/im/users/166283/profil...</td>\n",
       "      <td>Leopoldstadt</td>\n",
       "      <td>3.0</td>\n",
       "      <td>3.0</td>\n",
       "      <td>['email', 'phone', 'reviews', 'jumio', 'offlin...</td>\n",
       "      <td>t</td>\n",
       "      <td>t</td>\n",
       "      <td>Vienna, Austria</td>\n",
       "      <td>Leopoldstadt</td>\n",
       "      <td>NaN</td>\n",
       "      <td>48.21778</td>\n",
       "      <td>16.37847</td>\n",
       "      <td>Entire apartment</td>\n",
       "      <td>Entire home/apt</td>\n",
       "      <td>3.0</td>\n",
       "      <td>NaN</td>\n",
       "      <td>1 bath</td>\n",
       "      <td>NaN</td>\n",
       "      <td>2.0</td>\n",
       "      <td>[\"Cooking basics\", \"Shampoo\", \"Kitchen\", \"Host...</td>\n",
       "      <td>$60.00</td>\n",
       "      <td>3.0</td>\n",
       "      <td>100.0</td>\n",
       "      <td>3.0</td>\n",
       "      <td>3.0</td>\n",
       "      <td>100.0</td>\n",
       "      <td>100.0</td>\n",
       "      <td>3.0</td>\n",
       "      <td>100.0</td>\n",
       "      <td>NaN</td>\n",
       "      <td>t</td>\n",
       "      <td>0.0</td>\n",
       "      <td>0.0</td>\n",
       "      <td>0.0</td>\n",
       "      <td>0.0</td>\n",
       "      <td>4/16/2021</td>\n",
       "      <td>310.0</td>\n",
       "      <td>15.0</td>\n",
       "      <td>0.0</td>\n",
       "      <td>1/27/2011</td>\n",
       "      <td>1/4/2021</td>\n",
       "      <td>92.0</td>\n",
       "      <td>10.0</td>\n",
       "      <td>9.0</td>\n",
       "      <td>10.0</td>\n",
       "      <td>10.0</td>\n",
       "      <td>10.0</td>\n",
       "      <td>9.0</td>\n",
       "      <td>NaN</td>\n",
       "      <td>f</td>\n",
       "      <td>3.0</td>\n",
       "      <td>3.0</td>\n",
       "      <td>0.0</td>\n",
       "      <td>0.0</td>\n",
       "      <td>2.49</td>\n",
       "    </tr>\n",
       "    <tr>\n",
       "      <th>70637</th>\n",
       "      <td>https://www.airbnb.com/rooms/70637</td>\n",
       "      <td>2.020000e+13</td>\n",
       "      <td>4/16/2021</td>\n",
       "      <td>Flat in the Center with Terrace</td>\n",
       "      <td>&lt;b&gt;The space&lt;/b&gt;&lt;br /&gt;My apartment (including ...</td>\n",
       "      <td>NaN</td>\n",
       "      <td>https://a0.muscache.com/pictures/925691/c8c1bd...</td>\n",
       "      <td>358842.0</td>\n",
       "      <td>https://www.airbnb.com/users/show/358842</td>\n",
       "      <td>Elxe</td>\n",
       "      <td>1/23/2011</td>\n",
       "      <td>Vienna, Wien, Austria</td>\n",
       "      <td>&lt;div class=\"airbnb-embed-frame\"&gt;&lt;img (Website ...</td>\n",
       "      <td>within a few hours</td>\n",
       "      <td>100%</td>\n",
       "      <td>71%</td>\n",
       "      <td>t</td>\n",
       "      <td>https://a0.muscache.com/im/users/358842/profil...</td>\n",
       "      <td>https://a0.muscache.com/im/users/358842/profil...</td>\n",
       "      <td>Leopoldstadt</td>\n",
       "      <td>3.0</td>\n",
       "      <td>3.0</td>\n",
       "      <td>['email', 'phone', 'facebook', 'reviews', 'off...</td>\n",
       "      <td>t</td>\n",
       "      <td>t</td>\n",
       "      <td>NaN</td>\n",
       "      <td>Leopoldstadt</td>\n",
       "      <td>NaN</td>\n",
       "      <td>48.21760</td>\n",
       "      <td>16.38018</td>\n",
       "      <td>Private room in apartment</td>\n",
       "      <td>Private room</td>\n",
       "      <td>2.0</td>\n",
       "      <td>NaN</td>\n",
       "      <td>2 shared baths</td>\n",
       "      <td>1.0</td>\n",
       "      <td>2.0</td>\n",
       "      <td>[\"Cooking basics\", \"Indoor fireplace\", \"Shampo...</td>\n",
       "      <td>$50.00</td>\n",
       "      <td>2.0</td>\n",
       "      <td>1000.0</td>\n",
       "      <td>2.0</td>\n",
       "      <td>2.0</td>\n",
       "      <td>1000.0</td>\n",
       "      <td>1000.0</td>\n",
       "      <td>2.0</td>\n",
       "      <td>1000.0</td>\n",
       "      <td>NaN</td>\n",
       "      <td>t</td>\n",
       "      <td>15.0</td>\n",
       "      <td>45.0</td>\n",
       "      <td>75.0</td>\n",
       "      <td>341.0</td>\n",
       "      <td>4/16/2021</td>\n",
       "      <td>116.0</td>\n",
       "      <td>0.0</td>\n",
       "      <td>0.0</td>\n",
       "      <td>3/28/2011</td>\n",
       "      <td>12/23/2019</td>\n",
       "      <td>95.0</td>\n",
       "      <td>10.0</td>\n",
       "      <td>9.0</td>\n",
       "      <td>10.0</td>\n",
       "      <td>9.0</td>\n",
       "      <td>10.0</td>\n",
       "      <td>10.0</td>\n",
       "      <td>NaN</td>\n",
       "      <td>f</td>\n",
       "      <td>3.0</td>\n",
       "      <td>1.0</td>\n",
       "      <td>2.0</td>\n",
       "      <td>0.0</td>\n",
       "      <td>0.95</td>\n",
       "    </tr>\n",
       "  </tbody>\n",
       "</table>\n",
       "</div>"
      ],
      "text/plain": [
       "                              listing_url     scrape_id last_scraped  \\\n",
       "id                                                                     \n",
       "15883  https://www.airbnb.com/rooms/15883  2.020000e+13    4/15/2021   \n",
       "38768  https://www.airbnb.com/rooms/38768  2.020000e+13    4/15/2021   \n",
       "40625  https://www.airbnb.com/rooms/40625  2.020000e+13    4/15/2021   \n",
       "51287  https://www.airbnb.com/rooms/51287  2.020000e+13    4/16/2021   \n",
       "70637  https://www.airbnb.com/rooms/70637  2.020000e+13    4/16/2021   \n",
       "\n",
       "                                                    name  \\\n",
       "id                                                         \n",
       "15883                          b&b near Old Danube river   \n",
       "38768   central cityapartement- wifi- nice neighbourhood   \n",
       "40625                     Near Palace Schönbrunn, Apt. 1   \n",
       "51287  little studio- next to citycenter- wifi- nice ...   \n",
       "70637                    Flat in the Center with Terrace   \n",
       "\n",
       "                                             description  \\\n",
       "id                                                         \n",
       "15883  Four rooms, each one differently and individua...   \n",
       "38768  39m² apartment with beautiful courtyard of the...   \n",
       "40625  Welcome to my Apt. 1!<br /><br />This is a 2be...   \n",
       "51287  small studio in new renovated old house and ve...   \n",
       "70637  <b>The space</b><br />My apartment (including ...   \n",
       "\n",
       "                                   neighborhood_overview  \\\n",
       "id                                                         \n",
       "15883  small and personal<br /><br />Four rooms at th...   \n",
       "38768  the Karmeliterviertel became very popular in t...   \n",
       "40625  The neighbourhood offers plenty of restaurants...   \n",
       "51287  The neighbourhood has a lot of very nice littl...   \n",
       "70637                                                NaN   \n",
       "\n",
       "                                             picture_url   host_id  \\\n",
       "id                                                                   \n",
       "15883  https://a0.muscache.com/pictures/18eff738-a737...   62142.0   \n",
       "38768  https://a0.muscache.com/pictures/ad4089a3-5355...  166283.0   \n",
       "40625  https://a0.muscache.com/pictures/11509144/d55c...  175131.0   \n",
       "51287  https://a0.muscache.com/pictures/25163038/1c4e...  166283.0   \n",
       "70637  https://a0.muscache.com/pictures/925691/c8c1bd...  358842.0   \n",
       "\n",
       "                                       host_url host_name  host_since  \\\n",
       "id                                                                      \n",
       "15883   https://www.airbnb.com/users/show/62142       Eva  12/11/2009   \n",
       "38768  https://www.airbnb.com/users/show/166283    Hannes   7/14/2010   \n",
       "40625  https://www.airbnb.com/users/show/175131    Ingela   7/20/2010   \n",
       "51287  https://www.airbnb.com/users/show/166283    Hannes   7/14/2010   \n",
       "70637  https://www.airbnb.com/users/show/358842      Elxe   1/23/2011   \n",
       "\n",
       "               host_location  \\\n",
       "id                             \n",
       "15883  Vienna, Wien, Austria   \n",
       "38768  Vienna, Wien, Austria   \n",
       "40625  Vienna, Wien, Austria   \n",
       "51287  Vienna, Wien, Austria   \n",
       "70637  Vienna, Wien, Austria   \n",
       "\n",
       "                                              host_about  host_response_time  \\\n",
       "id                                                                             \n",
       "15883  Mein größtes Hobby: Reisen! Am liebsten mit me...                 NaN   \n",
       "38768  I am open minded and like travelling myself. I...      within an hour   \n",
       "40625  I´m originally from Sweden but have been livin...  within a few hours   \n",
       "51287  I am open minded and like travelling myself. I...      within an hour   \n",
       "70637  <div class=\"airbnb-embed-frame\"><img (Website ...  within a few hours   \n",
       "\n",
       "      host_response_rate host_acceptance_rate host_is_superhost  \\\n",
       "id                                                                \n",
       "15883                NaN                 100%                 f   \n",
       "38768               100%                  98%                 t   \n",
       "40625                90%                  74%                 t   \n",
       "51287               100%                  98%                 t   \n",
       "70637               100%                  71%                 t   \n",
       "\n",
       "                                      host_thumbnail_url  \\\n",
       "id                                                         \n",
       "15883  https://a0.muscache.com/im/pictures/user/24166...   \n",
       "38768  https://a0.muscache.com/im/users/166283/profil...   \n",
       "40625  https://a0.muscache.com/im/users/175131/profil...   \n",
       "51287  https://a0.muscache.com/im/users/166283/profil...   \n",
       "70637  https://a0.muscache.com/im/users/358842/profil...   \n",
       "\n",
       "                                        host_picture_url  \\\n",
       "id                                                         \n",
       "15883  https://a0.muscache.com/im/pictures/user/24166...   \n",
       "38768  https://a0.muscache.com/im/users/166283/profil...   \n",
       "40625  https://a0.muscache.com/im/users/175131/profil...   \n",
       "51287  https://a0.muscache.com/im/users/166283/profil...   \n",
       "70637  https://a0.muscache.com/im/users/358842/profil...   \n",
       "\n",
       "         host_neighbourhood  host_listings_count  host_total_listings_count  \\\n",
       "id                                                                            \n",
       "15883            Donaustadt                  6.0                        6.0   \n",
       "38768          Leopoldstadt                  3.0                        3.0   \n",
       "40625  Rudolfsheim-Fünfhaus                 16.0                       16.0   \n",
       "51287          Leopoldstadt                  3.0                        3.0   \n",
       "70637          Leopoldstadt                  3.0                        3.0   \n",
       "\n",
       "                                      host_verifications host_has_profile_pic  \\\n",
       "id                                                                              \n",
       "15883  ['email', 'phone', 'facebook', 'reviews', 'jum...                    t   \n",
       "38768  ['email', 'phone', 'reviews', 'jumio', 'offlin...                    t   \n",
       "40625  ['email', 'phone', 'reviews', 'jumio', 'govern...                    t   \n",
       "51287  ['email', 'phone', 'reviews', 'jumio', 'offlin...                    t   \n",
       "70637  ['email', 'phone', 'facebook', 'reviews', 'off...                    t   \n",
       "\n",
       "      host_identity_verified    neighbourhood neighbourhood_cleansed  \\\n",
       "id                                                                     \n",
       "15883                      t  Vienna, Austria             Donaustadt   \n",
       "38768                      t  Vienna, Austria           Leopoldstadt   \n",
       "40625                      t  Vienna, Austria   Rudolfsheim-Fnfhaus   \n",
       "51287                      t  Vienna, Austria           Leopoldstadt   \n",
       "70637                      t              NaN           Leopoldstadt   \n",
       "\n",
       "       neighbourhood_group_cleansed  latitude  longitude  \\\n",
       "id                                                         \n",
       "15883                           NaN  48.24262   16.42767   \n",
       "38768                           NaN  48.21924   16.37831   \n",
       "40625                           NaN  48.18434   16.32701   \n",
       "51287                           NaN  48.21778   16.37847   \n",
       "70637                           NaN  48.21760   16.38018   \n",
       "\n",
       "                   property_type        room_type  accommodates  bathrooms  \\\n",
       "id                                                                           \n",
       "15883  Room in bed and breakfast       Hotel room           3.0        NaN   \n",
       "38768           Entire apartment  Entire home/apt           5.0        NaN   \n",
       "40625           Entire apartment  Entire home/apt           6.0        NaN   \n",
       "51287           Entire apartment  Entire home/apt           3.0        NaN   \n",
       "70637  Private room in apartment     Private room           2.0        NaN   \n",
       "\n",
       "       bathrooms_text  bedrooms  beds  \\\n",
       "id                                      \n",
       "15883          1 bath       1.0   2.0   \n",
       "38768          1 bath       1.0   3.0   \n",
       "40625          1 bath       2.0   4.0   \n",
       "51287          1 bath       NaN   2.0   \n",
       "70637  2 shared baths       1.0   2.0   \n",
       "\n",
       "                                               amenities    price  \\\n",
       "id                                                                  \n",
       "15883  [\"Hot water\", \"High chair\", \"Essentials\", \"Hai...  $87.00    \n",
       "38768  [\"Cooking basics\", \"Shampoo\", \"Kitchen\", \"Host...  $60.00    \n",
       "40625  [\"Cooking basics\", \"Children\\u2019s books and ...  $88.00    \n",
       "51287  [\"Cooking basics\", \"Shampoo\", \"Kitchen\", \"Host...  $60.00    \n",
       "70637  [\"Cooking basics\", \"Indoor fireplace\", \"Shampo...  $50.00    \n",
       "\n",
       "       minimum_nights  maximum_nights  minimum_minimum_nights  \\\n",
       "id                                                              \n",
       "15883             1.0           365.0                     1.0   \n",
       "38768             3.0           100.0                     3.0   \n",
       "40625             1.0           180.0                     1.0   \n",
       "51287             3.0           100.0                     3.0   \n",
       "70637             2.0          1000.0                     2.0   \n",
       "\n",
       "       maximum_minimum_nights  minimum_maximum_nights  maximum_maximum_nights  \\\n",
       "id                                                                              \n",
       "15883                     1.0                   365.0                   365.0   \n",
       "38768                     3.0                   100.0                   100.0   \n",
       "40625                     1.0                   180.0                   180.0   \n",
       "51287                     3.0                   100.0                   100.0   \n",
       "70637                     2.0                  1000.0                  1000.0   \n",
       "\n",
       "       minimum_nights_avg_ntm  maximum_nights_avg_ntm  calendar_updated  \\\n",
       "id                                                                        \n",
       "15883                     1.0                   365.0               NaN   \n",
       "38768                     3.0                   100.0               NaN   \n",
       "40625                     1.0                   180.0               NaN   \n",
       "51287                     3.0                   100.0               NaN   \n",
       "70637                     2.0                  1000.0               NaN   \n",
       "\n",
       "      has_availability  availability_30  availability_60  availability_90  \\\n",
       "id                                                                          \n",
       "15883                t             30.0             60.0             90.0   \n",
       "38768                t              0.0              0.0             18.0   \n",
       "40625                t             30.0             60.0             90.0   \n",
       "51287                t              0.0              0.0              0.0   \n",
       "70637                t             15.0             45.0             75.0   \n",
       "\n",
       "       availability_365 calendar_last_scraped  number_of_reviews  \\\n",
       "id                                                                 \n",
       "15883             365.0             4/15/2021               11.0   \n",
       "38768             109.0             4/15/2021              324.0   \n",
       "40625             365.0             4/15/2021              156.0   \n",
       "51287               0.0             4/16/2021              310.0   \n",
       "70637             341.0             4/16/2021              116.0   \n",
       "\n",
       "       number_of_reviews_ltm  number_of_reviews_l30d first_review last_review  \\\n",
       "id                                                                              \n",
       "15883                    0.0                     0.0    4/10/2015   2/19/2020   \n",
       "38768                   11.0                     0.0    3/23/2011  10/10/2020   \n",
       "40625                    3.0                     0.0     8/4/2010   2/15/2021   \n",
       "51287                   15.0                     0.0    1/27/2011    1/4/2021   \n",
       "70637                    0.0                     0.0    3/28/2011  12/23/2019   \n",
       "\n",
       "       review_scores_rating  review_scores_accuracy  \\\n",
       "id                                                    \n",
       "15883                  95.0                    10.0   \n",
       "38768                  95.0                    10.0   \n",
       "40625                  97.0                    10.0   \n",
       "51287                  92.0                    10.0   \n",
       "70637                  95.0                    10.0   \n",
       "\n",
       "       review_scores_cleanliness  review_scores_checkin  \\\n",
       "id                                                        \n",
       "15883                       10.0                   10.0   \n",
       "38768                        9.0                   10.0   \n",
       "40625                       10.0                   10.0   \n",
       "51287                        9.0                   10.0   \n",
       "70637                        9.0                   10.0   \n",
       "\n",
       "       review_scores_communication  review_scores_location  \\\n",
       "id                                                           \n",
       "15883                         10.0                     9.0   \n",
       "38768                         10.0                    10.0   \n",
       "40625                         10.0                     9.0   \n",
       "51287                         10.0                    10.0   \n",
       "70637                          9.0                    10.0   \n",
       "\n",
       "       review_scores_value  license instant_bookable  \\\n",
       "id                                                     \n",
       "15883                  9.0      NaN                t   \n",
       "38768                 10.0      NaN                f   \n",
       "40625                  9.0      NaN                t   \n",
       "51287                  9.0      NaN                f   \n",
       "70637                 10.0      NaN                f   \n",
       "\n",
       "       calculated_host_listings_count  \\\n",
       "id                                      \n",
       "15883                             4.0   \n",
       "38768                             3.0   \n",
       "40625                            15.0   \n",
       "51287                             3.0   \n",
       "70637                             3.0   \n",
       "\n",
       "       calculated_host_listings_count_entire_homes  \\\n",
       "id                                                   \n",
       "15883                                          2.0   \n",
       "38768                                          3.0   \n",
       "40625                                         14.0   \n",
       "51287                                          3.0   \n",
       "70637                                          1.0   \n",
       "\n",
       "       calculated_host_listings_count_private_rooms  \\\n",
       "id                                                    \n",
       "15883                                           0.0   \n",
       "38768                                           0.0   \n",
       "40625                                           1.0   \n",
       "51287                                           0.0   \n",
       "70637                                           2.0   \n",
       "\n",
       "       calculated_host_listings_count_shared_rooms  reviews_per_month  \n",
       "id                                                                     \n",
       "15883                                          0.0               0.15  \n",
       "38768                                          0.0               2.64  \n",
       "40625                                          0.0               1.20  \n",
       "51287                                          0.0               2.49  \n",
       "70637                                          0.0               0.95  "
      ]
     },
     "execution_count": 3,
     "metadata": {},
     "output_type": "execute_result"
    }
   ],
   "source": [
    "# view first few rows\n",
    "vienna.head()"
   ]
  },
  {
   "cell_type": "code",
   "execution_count": null,
   "metadata": {},
   "outputs": [],
   "source": [
    "# view number of rows/columns\n",
    "vienna.shape"
   ]
  },
  {
   "cell_type": "code",
   "execution_count": null,
   "metadata": {},
   "outputs": [],
   "source": [
    "vienna.info()"
   ]
  },
  {
   "cell_type": "markdown",
   "metadata": {},
   "source": [
    "There are three different datatypes represented in the data. Notice that the `price` column, which will be our label (ie what we are trying to predict), is represented as a string instead of a number.  We will need to change this before running any type of machine learning algorithm.  Also, there are several features that have missing values. We'll take care of these as we go along.\n",
    "\n",
    "We will analyze more of the features later, but let's first look at a few of the features in further detail: `neighborhoods in Vienna`, `property types`, `room types`, and `amenities`."
   ]
  },
  {
   "cell_type": "code",
   "execution_count": null,
   "metadata": {},
   "outputs": [],
   "source": [
    "# view value counts for neighborhood_cleansed\n",
    "vienna['neighbourhood_cleansed'].value_counts()"
   ]
  },
  {
   "cell_type": "code",
   "execution_count": null,
   "metadata": {},
   "outputs": [],
   "source": [
    "# view value counts for property_type\n",
    "vienna['property_type'].value_counts()"
   ]
  },
  {
   "cell_type": "markdown",
   "metadata": {},
   "source": [
    "There are a lot of different values for this feature. We could combine some of these (example: cabin and chalet should be similar to a house) to make our list more manageable. But first, let's also look at `room_type`."
   ]
  },
  {
   "cell_type": "code",
   "execution_count": null,
   "metadata": {},
   "outputs": [],
   "source": [
    "# view value counts for room_type\n",
    "vienna['room_type'].value_counts()"
   ]
  },
  {
   "cell_type": "markdown",
   "metadata": {},
   "source": [
    "This seems to be similar data as the `property_type`. I'll leave both in for now and you would want to check for multi-linear correlation on your own if you were actually working on this as a project."
   ]
  },
  {
   "cell_type": "code",
   "execution_count": null,
   "metadata": {},
   "outputs": [],
   "source": [
    "# view value counts for amenities\n",
    "vienna['amenities']"
   ]
  },
  {
   "cell_type": "markdown",
   "metadata": {},
   "source": [
    "The `amenities` feature is a list of available amenities for each property. This will be difficult to work with but some of these listed amenities might have an influence on the price. We will work on separating these list items out later."
   ]
  },
  {
   "cell_type": "markdown",
   "metadata": {},
   "source": [
    "After a manual review of each feature, there are several features that we can immediately remove from the dataset. First, we can drop features that are not related to price."
   ]
  },
  {
   "cell_type": "code",
   "execution_count": null,
   "metadata": {},
   "outputs": [],
   "source": [
    "drop_features = ['listing_url','scrape_id','host_url','host_name','host_location',\n",
    "                'host_neighbourhood','neighbourhood_group_cleansed','calendar_updated','license',\n",
    "                'host_thumbnail_url','host_picture_url','host_verifications','host_has_profile_pic',\n",
    "                'has_availability','host_total_listings_count','neighbourhood',\n",
    "                'minimum_minimum_nights','maximum_minimum_nights','minimum_maximum_nights','maximum_maximum_nights',\n",
    "                'minimum_nights_avg_ntm','maximum_nights_avg_ntm','availability_30','availability_60',\n",
    "                'availability_365','calendar_last_scraped','number_of_reviews_ltm','number_of_reviews_l30d',\n",
    "                'calculated_host_listings_count_entire_homes','calculated_host_listings_count_private_rooms',\n",
    "                'calculated_host_listings_count_shared_rooms','last_scraped','neighborhood_overview',\n",
    "                 'host_about','picture_url','host_identity_verified', 'minimum_nights', 'maximum_nights', \n",
    "                 'availability_90', 'instant_bookable','bathrooms','host_total_listings_count']\n",
    "\n",
    "vienna = vienna.drop(drop_features, axis=1)\n",
    "vienna.head()"
   ]
  },
  {
   "cell_type": "code",
   "execution_count": null,
   "metadata": {},
   "outputs": [],
   "source": [
    "vienna.shape"
   ]
  },
  {
   "cell_type": "markdown",
   "metadata": {},
   "source": [
    "**Important:** In a real world project, we would stop here and split the data into what is called a training set and a test set. The training set is used to explore and train the data, and the test set is used at the very end to determine how new data generalizes with your model. This will be covered in much more detail in the machine learning classes."
   ]
  },
  {
   "cell_type": "markdown",
   "metadata": {},
   "source": [
    "## Missing Data<a name=\"missing\"></a>\n",
    "Missing data is very common in real world datasets and Pandas is a powerful tool in working with this missing data.\n",
    "\n",
    "### Filtering Missing Data<a name=\"filter\"></a>\n",
    "\n",
    "Let's now look at some of the missing data in the dataset. First, we need to understand what data is missing (we should attempt to either find the missing data or impute it based on other data) and what data just doesn't exist (where that fact that it is missing might provide additional information -- example: no reviews for a property)."
   ]
  },
  {
   "cell_type": "code",
   "execution_count": null,
   "metadata": {},
   "outputs": [],
   "source": [
    "# creates True/False mask\n",
    "vienna['beds'].isnull()"
   ]
  },
  {
   "cell_type": "code",
   "execution_count": null,
   "metadata": {},
   "outputs": [],
   "source": [
    "vienna['beds'].isnull().sum() # missing from data"
   ]
  },
  {
   "cell_type": "markdown",
   "metadata": {},
   "source": [
    "This could be an example of purely missing data. Every property probably should have at least one bed listed, even if it is a non-standard bed type."
   ]
  },
  {
   "cell_type": "code",
   "execution_count": null,
   "metadata": {},
   "outputs": [],
   "source": [
    "vienna['first_review'].isnull().sum() # doesn't exist"
   ]
  },
  {
   "cell_type": "markdown",
   "metadata": {},
   "source": [
    "This is an example of data that probably just doesn't exist. These properties might not have any reviews from guests. And the fact that they don't have any reviews might be important to the properties price."
   ]
  },
  {
   "cell_type": "markdown",
   "metadata": {},
   "source": [
    "### Dropping missing values<a name=\"drop\"></a>\n",
    "One way to handle missing data is to drop the values completely. This could be appropriate based on your data but remember that you might lose some other information by dropping the data."
   ]
  },
  {
   "cell_type": "code",
   "execution_count": null,
   "metadata": {
    "code_folding": []
   },
   "outputs": [],
   "source": [
    "#setup simple DataFrame\n",
    "data = pd.DataFrame([[2.,4.,6.],[1.,np.nan,np.nan],\n",
    "                     [np.nan,np.nan,np.nan],[np.nan,10.,12.]])\n",
    "data"
   ]
  },
  {
   "cell_type": "code",
   "execution_count": null,
   "metadata": {},
   "outputs": [],
   "source": [
    "# using drop_na to drop rows with missing values\n",
    "data.dropna()"
   ]
  },
  {
   "cell_type": "code",
   "execution_count": null,
   "metadata": {},
   "outputs": [],
   "source": [
    "# dropping rows where there are missing values only for column '1'\n",
    "data.dropna(subset=[1])"
   ]
  },
  {
   "cell_type": "code",
   "execution_count": null,
   "metadata": {},
   "outputs": [],
   "source": [
    "# using drop_na to drop columns with missing values\n",
    "data.dropna(axis=1)"
   ]
  },
  {
   "cell_type": "code",
   "execution_count": null,
   "metadata": {},
   "outputs": [],
   "source": [
    "# using drop_na to drop rows that have all missing values\n",
    "data.dropna(how='all')"
   ]
  },
  {
   "cell_type": "code",
   "execution_count": null,
   "metadata": {},
   "outputs": [],
   "source": [
    "# using drop_na to drop rows that don't have at least 2 values\n",
    "data.dropna(thresh=2)"
   ]
  },
  {
   "cell_type": "markdown",
   "metadata": {},
   "source": [
    "#### Student Practice\n",
    "Try to perform the following tasks on the `vienna` dataset. Then check your answers as I walk through the solutions. Unless the exercise asks you to create a new DataFrame, you can assume that you are to alter the original `vienna` data."
   ]
  },
  {
   "cell_type": "code",
   "execution_count": null,
   "metadata": {
    "code_folding": []
   },
   "outputs": [],
   "source": [
    "# run the following code\n",
    "vienna.shape"
   ]
  },
  {
   "cell_type": "markdown",
   "metadata": {},
   "source": [
    "**Exercise:** Create a new DataFrame called `vienna_dropped_rows` to drop all rows from the original `vienna` dataset with missing values. "
   ]
  },
  {
   "cell_type": "code",
   "execution_count": null,
   "metadata": {
    "code_folding": []
   },
   "outputs": [],
   "source": [
    "### ENTER CODE HERE ###"
   ]
  },
  {
   "cell_type": "markdown",
   "metadata": {},
   "source": [
    "**Exercise:** Create a new DataFrame called `vienna_dropped_rows_subset` where rows with missing values in the `bedrooms` column are dropped."
   ]
  },
  {
   "cell_type": "code",
   "execution_count": null,
   "metadata": {
    "code_folding": []
   },
   "outputs": [],
   "source": [
    "### ENTER CODE HERE ###"
   ]
  },
  {
   "cell_type": "markdown",
   "metadata": {},
   "source": [
    "**Exercise:** Create a new DataFrame called `vienna_dropped_cols` where columns with missing values are dropped."
   ]
  },
  {
   "cell_type": "code",
   "execution_count": null,
   "metadata": {
    "code_folding": []
   },
   "outputs": [],
   "source": [
    "### ENTER CODE HERE ###"
   ]
  },
  {
   "cell_type": "markdown",
   "metadata": {},
   "source": [
    "**Exercise:** Drop rows from the `vienna` dataset that have only missing values. "
   ]
  },
  {
   "cell_type": "code",
   "execution_count": null,
   "metadata": {
    "code_folding": []
   },
   "outputs": [],
   "source": [
    "### ENTER CODE HERE ###"
   ]
  },
  {
   "cell_type": "markdown",
   "metadata": {},
   "source": [
    "**Exercise:** Drop rows from the `vienna` dataset that don't have at least 10 values."
   ]
  },
  {
   "cell_type": "code",
   "execution_count": null,
   "metadata": {
    "code_folding": []
   },
   "outputs": [],
   "source": [
    "### ENTER CODE HERE ###"
   ]
  },
  {
   "cell_type": "markdown",
   "metadata": {},
   "source": [
    "### Filling Missing Data<a name=\"filling\"></a>\n",
    "\n",
    "Instead of simply discarding data and potentially losing information from other data that goes along with it, sometimes it's better to fill the missing data. This can be done in a number of different ways."
   ]
  },
  {
   "cell_type": "code",
   "execution_count": null,
   "metadata": {},
   "outputs": [],
   "source": [
    "# setup example DataFrame\n",
    "data = pd.DataFrame(np.random.randn(7, 3))\n",
    "data.iloc[:4, 1] = np.nan\n",
    "data.iloc[:2, 2] = np.nan\n",
    "data"
   ]
  },
  {
   "cell_type": "code",
   "execution_count": null,
   "metadata": {},
   "outputs": [],
   "source": [
    "# using fillna with a constant \n",
    "data.fillna(0)"
   ]
  },
  {
   "cell_type": "code",
   "execution_count": null,
   "metadata": {},
   "outputs": [],
   "source": [
    "# using fillna with a dictionary for potential different values\n",
    "data.fillna({1: 1.5, 2:-1.5})"
   ]
  },
  {
   "cell_type": "code",
   "execution_count": null,
   "metadata": {},
   "outputs": [],
   "source": [
    "# same interpolation methods available for reindexing can be used with fillna\n",
    "df = pd.DataFrame(np.random.randn(6, 3))\n",
    "df.iloc[2:, 1] = np.nan\n",
    "df.iloc[4:, 2] = np.nan\n",
    "df"
   ]
  },
  {
   "cell_type": "code",
   "execution_count": null,
   "metadata": {},
   "outputs": [],
   "source": [
    "# using 'ffill'\n",
    "df.fillna(method='ffill')"
   ]
  },
  {
   "cell_type": "code",
   "execution_count": null,
   "metadata": {},
   "outputs": [],
   "source": [
    "# using 'ffill' with limit\n",
    "df.fillna(method='ffill', limit=2)"
   ]
  },
  {
   "cell_type": "code",
   "execution_count": null,
   "metadata": {},
   "outputs": [],
   "source": [
    "# using the mean of each column\n",
    "df.fillna(df.mean())"
   ]
  },
  {
   "cell_type": "markdown",
   "metadata": {},
   "source": [
    "#### Student Practice\n",
    "Try to perform the following tasks on the `vienna` dataset. Then check your answers as I walk through the solutions. Unless the exercise asks you to create a new DataFrame, you can assume that you are to alter the original `vienna` data."
   ]
  },
  {
   "cell_type": "code",
   "execution_count": null,
   "metadata": {
    "code_folding": []
   },
   "outputs": [],
   "source": [
    "# look at missing data for bathrooms\n",
    "vienna['bathrooms_text'].isnull().sum()"
   ]
  },
  {
   "cell_type": "markdown",
   "metadata": {},
   "source": [
    "**Exercise:** Fill missing values from `bathrooms_text` with the number `1`."
   ]
  },
  {
   "cell_type": "code",
   "execution_count": null,
   "metadata": {
    "code_folding": []
   },
   "outputs": [],
   "source": [
    "### ENTER CODE HERE ###"
   ]
  },
  {
   "cell_type": "markdown",
   "metadata": {},
   "source": [
    "**Exercise:** Fill missing values as follows:\n",
    "- bedrooms: 1\n",
    "- host_listings_count: 1\n",
    "- host_is_superhost: 'f'"
   ]
  },
  {
   "cell_type": "code",
   "execution_count": null,
   "metadata": {
    "code_folding": []
   },
   "outputs": [],
   "source": [
    "### ENTER CODE HERE ###"
   ]
  },
  {
   "cell_type": "markdown",
   "metadata": {},
   "source": [
    "**Exercise:** Fill the missing values in the `beds` column with the median."
   ]
  },
  {
   "cell_type": "code",
   "execution_count": null,
   "metadata": {
    "code_folding": []
   },
   "outputs": [],
   "source": [
    "### ENTER CODE HERE ###"
   ]
  },
  {
   "cell_type": "markdown",
   "metadata": {},
   "source": [
    "**Note:** There are more efficient ways to handle missing values by using pipelines with Scikit-learn, which you will study more in the machine learning classes. These pipelines will allow you to clean future data more easily so that you won't have to do it manually each time."
   ]
  },
  {
   "cell_type": "markdown",
   "metadata": {},
   "source": [
    "## Data Transformation<a name=\"transformation\"></a>\n",
    "### Removing Duplicates<a name=\"remove_dupes\"></a>\n",
    "You may also find yourself spending a lot of time identifying and handling duplicate data. Sometimes it will be easy to identify the duplicates (all or most of the values are the same), while other times duplicates will be much harder to identify."
   ]
  },
  {
   "cell_type": "code",
   "execution_count": null,
   "metadata": {},
   "outputs": [],
   "source": [
    "# create basic DataFrame\n",
    "data = pd.DataFrame({'Student': ['Stephanie','Nadia','Lukas','Sally','Nadia','Nadia'],\n",
    "                    'Grade': [100,95,100,80,100,100]})\n",
    "data"
   ]
  },
  {
   "cell_type": "code",
   "execution_count": null,
   "metadata": {},
   "outputs": [],
   "source": [
    "# returns boolean Series: True represents whether row has been observed before\n",
    "data.duplicated()"
   ]
  },
  {
   "cell_type": "code",
   "execution_count": null,
   "metadata": {},
   "outputs": [],
   "source": [
    "# returns only non-duplicated rows\n",
    "data.drop_duplicates()"
   ]
  },
  {
   "cell_type": "code",
   "execution_count": null,
   "metadata": {},
   "outputs": [],
   "source": [
    "# keep the last row instead of the first\n",
    "data.drop_duplicates(keep='last')"
   ]
  },
  {
   "cell_type": "code",
   "execution_count": null,
   "metadata": {},
   "outputs": [],
   "source": [
    "# default considers all values\n",
    "# can specify subset \n",
    "data.drop_duplicates(['Student'])"
   ]
  },
  {
   "cell_type": "markdown",
   "metadata": {},
   "source": [
    "#### Student Practice\n",
    "Try to perform the following tasks on the `vienna` dataset. Then check your answers as I walk through the solutions. Unless the exercise asks you to create a new DataFrame, you can assume that you are to alter the original `vienna` data."
   ]
  },
  {
   "cell_type": "markdown",
   "metadata": {},
   "source": [
    "**Exercise:** How many exact duplicates are in the `vienna` data? Drop any exact duplicates from the data."
   ]
  },
  {
   "cell_type": "code",
   "execution_count": null,
   "metadata": {
    "code_folding": []
   },
   "outputs": [],
   "source": [
    "### ENTER CODE HERE ###"
   ]
  },
  {
   "cell_type": "markdown",
   "metadata": {},
   "source": [
    "**Exercise:** How many properties have the exact same `host_id`, `name`, and `description`and are in the same neighborhood as a previous property?"
   ]
  },
  {
   "cell_type": "code",
   "execution_count": null,
   "metadata": {
    "code_folding": []
   },
   "outputs": [],
   "source": [
    "### ENTER CODE HERE ###"
   ]
  },
  {
   "cell_type": "markdown",
   "metadata": {},
   "source": [
    "**Exercise**: These properties may be duplicates. Let's say after researching further that we have decided to remove these duplicated rows. Remove these rows from the `vienna` data."
   ]
  },
  {
   "cell_type": "code",
   "execution_count": null,
   "metadata": {
    "code_folding": []
   },
   "outputs": [],
   "source": [
    "### ENTER CODE HERE ###"
   ]
  },
  {
   "cell_type": "markdown",
   "metadata": {},
   "source": [
    "### Transforming Data Using a Function or Mapping<a name=\"map\"></a>\n",
    "Performing transformations based on values in an array."
   ]
  },
  {
   "cell_type": "code",
   "execution_count": null,
   "metadata": {},
   "outputs": [],
   "source": [
    "\n",
    "# create a sample DataFrame\n",
    "data = pd.DataFrame({\n",
    "    'city': ['atlanta','Baltimore','boston','Buffalo','charlotte'],\n",
    "    'state': ['GA','Maryland','Massachusetts','New York','NC']\n",
    "})\n",
    "\n",
    "data"
   ]
  },
  {
   "cell_type": "markdown",
   "metadata": {},
   "source": [
    "First, notice that some of these cities are capitlized and some are not. We need to keep that in mind when we go to map the values.\n",
    "\n",
    "Suppose you wanted to add a column indicating the NFL mascot for the respective city. We can map the city to the mascot name as follows:"
   ]
  },
  {
   "cell_type": "code",
   "execution_count": null,
   "metadata": {},
   "outputs": [],
   "source": [
    "# create a dictionary mapping\n",
    "city_to_mascot = {\n",
    "    'atlanta':'Falcons',\n",
    "    'baltimore':'Ravens',\n",
    "    'boston':'Patriots',\n",
    "    'buffalo':'Bills',\n",
    "    'charlotte':'Panthers'\n",
    "}"
   ]
  },
  {
   "cell_type": "code",
   "execution_count": null,
   "metadata": {},
   "outputs": [],
   "source": [
    "# use `str.lower()` to convert values before mapping\n",
    "lowercased_city = data['city'].str.lower()\n",
    "lowercased_city"
   ]
  },
  {
   "cell_type": "code",
   "execution_count": null,
   "metadata": {},
   "outputs": [],
   "source": [
    "# `map()` accepts a function or dictionary-like object\n",
    "data['mascot'] = lowercased_city.map(city_to_mascot)\n",
    "data"
   ]
  },
  {
   "cell_type": "code",
   "execution_count": null,
   "metadata": {},
   "outputs": [],
   "source": [
    "# also can pass a function\n",
    "data['city'].map(lambda x: city_to_mascot[x.lower()])"
   ]
  },
  {
   "cell_type": "markdown",
   "metadata": {},
   "source": [
    "Sometimes you might only want to map some values and leave others as they appear in the data. You can combine `map()` and `fillna()` for this purpose.\n",
    "\n",
    "How could we use a mapping to abbreviate the states that don't yet have abbreviations?"
   ]
  },
  {
   "cell_type": "code",
   "execution_count": null,
   "metadata": {},
   "outputs": [],
   "source": [
    "state_abbr = {\n",
    "    'Maryland':'MD',\n",
    "    'Massachusetts':'MA',\n",
    "    'New York':'NY'\n",
    "}\n",
    "\n",
    "# make a copy of data to use with the following example\n",
    "data2 = data.copy()\n",
    "\n",
    "# this won't work\n",
    "data2['state']= data2['state'].map(state_abbr)\n",
    "data2"
   ]
  },
  {
   "cell_type": "code",
   "execution_count": null,
   "metadata": {},
   "outputs": [],
   "source": [
    "data['state'] = data['state'].map(state_abbr).fillna(data['state'])\n",
    "data"
   ]
  },
  {
   "cell_type": "markdown",
   "metadata": {},
   "source": [
    "#### Student Practice\n",
    "Try to perform the following tasks on the `vienna` dataset. Then check your answers as I walk through the solutions. Unless the exercise asks you to create a new DataFrame, you can assume that you are to alter the original `vienna` data."
   ]
  },
  {
   "cell_type": "markdown",
   "metadata": {},
   "source": [
    "**Exercise:** Change the column name from the British spelling of `neighbourhood_cleansed` to the American spelling of `neighborhood_cleansed`."
   ]
  },
  {
   "cell_type": "code",
   "execution_count": null,
   "metadata": {
    "code_folding": []
   },
   "outputs": [],
   "source": [
    "### ENTER CODE HERE ###"
   ]
  },
  {
   "cell_type": "markdown",
   "metadata": {},
   "source": [
    "**Exercise:** Check the value counts of this column. Notice that the various foreign language characters did not get encoded correctly."
   ]
  },
  {
   "cell_type": "code",
   "execution_count": null,
   "metadata": {
    "code_folding": []
   },
   "outputs": [],
   "source": [
    "### ENTER CODE HERE ###"
   ]
  },
  {
   "cell_type": "markdown",
   "metadata": {},
   "source": [
    "**Exercise:** Use a mapping to update the following neighborhood names. Check your value counts again to ensure that the names were updated. \n",
    "- Landstrasse\n",
    "- Rudolfsheim-Funfhaus\n",
    "- Wahring\n",
    "- Dobling"
   ]
  },
  {
   "cell_type": "code",
   "execution_count": null,
   "metadata": {
    "code_folding": []
   },
   "outputs": [],
   "source": [
    "### ENTER CODE HERE ###"
   ]
  },
  {
   "cell_type": "markdown",
   "metadata": {},
   "source": [
    "**Exercise:** Using Seaborn, plot a scatterplot using the `longitude` and `latitude` of the `vienna` DataFrame using the `neighborhood_cleansed` column as the hue."
   ]
  },
  {
   "cell_type": "code",
   "execution_count": null,
   "metadata": {
    "code_folding": []
   },
   "outputs": [],
   "source": [
    "### ENTER CODE HERE ###"
   ]
  },
  {
   "cell_type": "markdown",
   "metadata": {},
   "source": [
    "### Replacing Values<a name=\"replace\"></a>\n",
    "As we saw previously, `map` can be used to modify a subset of values but `replace` can sometimes be simpler and more flexible. However, using `map` is sometimes more efficient for larger datasets."
   ]
  },
  {
   "cell_type": "code",
   "execution_count": null,
   "metadata": {},
   "outputs": [],
   "source": [
    "data"
   ]
  },
  {
   "cell_type": "code",
   "execution_count": null,
   "metadata": {},
   "outputs": [],
   "source": [
    "# using replace to replace a single value\n",
    "data.replace('Panthers', np.nan, inplace=True)\n",
    "data"
   ]
  },
  {
   "cell_type": "code",
   "execution_count": null,
   "metadata": {},
   "outputs": [],
   "source": [
    "# using replace to replace multiple values\n",
    "data.replace(['Falcons', 'Ravens'], np.nan, inplace=True)\n",
    "data"
   ]
  },
  {
   "cell_type": "code",
   "execution_count": null,
   "metadata": {},
   "outputs": [],
   "source": [
    "# using replace to replace different values using lists\n",
    "data.replace(['Patriots','Bills'],[np.nan, 'Wings'])"
   ]
  },
  {
   "cell_type": "code",
   "execution_count": null,
   "metadata": {},
   "outputs": [],
   "source": [
    "# using replace to replace different values using a dictionary\n",
    "data.replace({'Patriots':np.nan, 'Bills':'Wings'}, inplace=True)\n",
    "data"
   ]
  },
  {
   "cell_type": "markdown",
   "metadata": {},
   "source": [
    "#### Student Practice\n",
    "Try to perform the following tasks on the `vienna` dataset. Then check your answers as I walk through the solutions. Unless the exercise asks you to create a new DataFrame, you can assume that you are to alter the original `vienna` data."
   ]
  },
  {
   "cell_type": "markdown",
   "metadata": {},
   "source": [
    "**Exercise:** Check the value counts for the property types."
   ]
  },
  {
   "cell_type": "code",
   "execution_count": null,
   "metadata": {
    "code_folding": []
   },
   "outputs": [],
   "source": [
    "### ENTER CODE HERE ###"
   ]
  },
  {
   "cell_type": "markdown",
   "metadata": {},
   "source": [
    "**Exercise:** We want to combine some of these categories so that we eventually only have four categories: 'Apartment', 'House', 'Room', and 'Other'. For example, 'Entire house' and 'Entire cottage' can probably just be listed as 'House' to simplify the data.\n",
    "\n",
    "First, combine the property types that you think could be simply represented by 'House' and 'Apartment' (Note: answers will vary based on how you break down the categories)"
   ]
  },
  {
   "cell_type": "code",
   "execution_count": null,
   "metadata": {
    "code_folding": []
   },
   "outputs": [],
   "source": [
    "### ENTER CODE HERE ###"
   ]
  },
  {
   "cell_type": "markdown",
   "metadata": {},
   "source": [
    "**Exercise:** Perform a similar task of combining property types that might be simply considered as a 'Room'. \n",
    "\n",
    "*Bonus:* You could perform this with `replace()` but it would take a long dictionary of values. Can you perform this using the Pandas [str.contains()](https://pandas.pydata.org/docs/reference/api/pandas.Series.str.contains.html) method in one line of code?"
   ]
  },
  {
   "cell_type": "code",
   "execution_count": null,
   "metadata": {
    "code_folding": []
   },
   "outputs": [],
   "source": [
    "### ENTER CODE HERE ###"
   ]
  },
  {
   "cell_type": "markdown",
   "metadata": {},
   "source": [
    "**Exercise:** Change all other values not listed as 'House', 'Apartment', or 'Room' to 'Other'. \n",
    "\n",
    "*Bonus:* Again, you could perform this with `replace()`, but can you think of a way to do it in one line of code? Hint: You want to select everything where the property type is not 'House', 'Apartment', or 'Room' and code those as 'Other'.   "
   ]
  },
  {
   "cell_type": "code",
   "execution_count": null,
   "metadata": {
    "code_folding": []
   },
   "outputs": [],
   "source": [
    "### ENTER CODE HERE ###"
   ]
  },
  {
   "cell_type": "markdown",
   "metadata": {},
   "source": [
    "**Exercise:** Check the property type value counts one last time to verify that you now only have four categories."
   ]
  },
  {
   "cell_type": "code",
   "execution_count": null,
   "metadata": {
    "code_folding": []
   },
   "outputs": [],
   "source": [
    "### ENTER CODE HERE ###"
   ]
  },
  {
   "cell_type": "markdown",
   "metadata": {},
   "source": [
    "### Binning<a name=\"bin\"></a>\n",
    "\n",
    "Continuous data is often separated into 'bins' for analysis."
   ]
  },
  {
   "cell_type": "code",
   "execution_count": 4,
   "metadata": {
    "code_folding": []
   },
   "outputs": [
    {
     "data": {
      "text/plain": [
       "[(1945, 1964], (1945, 1964], (1964, 1980], (1980, 1996], (1945, 1964], (1996, 2012], (1964, 1980]]\n",
       "Categories (4, interval[int64, right]): [(1945, 1964] < (1964, 1980] < (1980, 1996] < (1996, 2012]]"
      ]
     },
     "execution_count": 4,
     "metadata": {},
     "output_type": "execute_result"
    }
   ],
   "source": [
    "# setup list of birth years\n",
    "year = [1955, 1964, 1975, 1985, 1960, 2001, 1978]\n",
    "\n",
    "# setup bins \n",
    "bins = [1945, 1964, 1980, 1996, 2012]\n",
    "\n",
    "# use the `cut()` function to divide years into their appropriate bins\n",
    "cats = pd.cut(year, bins)\n",
    "\n",
    "# returns a special `Categorical` object\n",
    "cats"
   ]
  },
  {
   "cell_type": "markdown",
   "metadata": {},
   "source": [
    "Uses mathematical notation for intervals.\n",
    "- `(` is *open* (not included in the category)\n",
    "- `]` is *closed* (inclusive)\n",
    "- can change which side is closed by passing `right=False`"
   ]
  },
  {
   "cell_type": "code",
   "execution_count": 5,
   "metadata": {
    "code_folding": []
   },
   "outputs": [],
   "source": [
    "# can pass your own bin names\n",
    "cats = pd.cut(year, bins, labels=['Baby Boomer', 'Generation X', \n",
    "                                  'Generation Y (Millennials)', 'Generation Z'])"
   ]
  },
  {
   "cell_type": "code",
   "execution_count": 6,
   "metadata": {},
   "outputs": [
    {
     "data": {
      "text/plain": [
       "array([0, 0, 1, 2, 0, 3, 1], dtype=int8)"
      ]
     },
     "execution_count": 6,
     "metadata": {},
     "output_type": "execute_result"
    }
   ],
   "source": [
    "# label for the year data\n",
    "cats.codes"
   ]
  },
  {
   "cell_type": "code",
   "execution_count": 7,
   "metadata": {},
   "outputs": [
    {
     "data": {
      "text/plain": [
       "Index(['Baby Boomer', 'Generation X', 'Generation Y (Millennials)',\n",
       "       'Generation Z'],\n",
       "      dtype='object')"
      ]
     },
     "execution_count": 7,
     "metadata": {},
     "output_type": "execute_result"
    }
   ],
   "source": [
    "# categories for the year data\n",
    "cats.categories"
   ]
  },
  {
   "cell_type": "code",
   "execution_count": 8,
   "metadata": {},
   "outputs": [
    {
     "data": {
      "text/plain": [
       "Baby Boomer                   3\n",
       "Generation X                  2\n",
       "Generation Y (Millennials)    1\n",
       "Generation Z                  1\n",
       "dtype: int64"
      ]
     },
     "execution_count": 8,
     "metadata": {},
     "output_type": "execute_result"
    }
   ],
   "source": [
    "# value counts for the bins\n",
    "pd.value_counts(cats)"
   ]
  },
  {
   "cell_type": "code",
   "execution_count": null,
   "metadata": {},
   "outputs": [],
   "source": [
    "# create random array of data\n",
    "data = np.random.rand(100)\n",
    "data"
   ]
  },
  {
   "cell_type": "code",
   "execution_count": null,
   "metadata": {},
   "outputs": [],
   "source": [
    "# equal length bins based on min and max values\n",
    "pd.cut(data, 4, precision=2)"
   ]
  },
  {
   "cell_type": "code",
   "execution_count": null,
   "metadata": {},
   "outputs": [],
   "source": [
    "# create sample Series data\n",
    "ser1 = pd.Series(np.random.rand(20))\n",
    "ser1[[1,3,5]] = np.nan\n",
    "ser1"
   ]
  },
  {
   "cell_type": "code",
   "execution_count": null,
   "metadata": {},
   "outputs": [],
   "source": [
    "# bin in four equal categories\n",
    "ser1 = pd.cut(ser1, 4, precision=4, labels=['small','medium','large','x-large'])\n",
    "ser1"
   ]
  },
  {
   "cell_type": "code",
   "execution_count": null,
   "metadata": {},
   "outputs": [],
   "source": [
    "# notice syntax for Series\n",
    "ser1.cat.codes"
   ]
  },
  {
   "cell_type": "code",
   "execution_count": null,
   "metadata": {},
   "outputs": [],
   "source": [
    "ser1.cat.categories"
   ]
  },
  {
   "cell_type": "code",
   "execution_count": null,
   "metadata": {},
   "outputs": [],
   "source": [
    "# add category - added to the front position\n",
    "ser1 = ser1.cat.add_categories('not_measured')\n",
    "ser1"
   ]
  },
  {
   "cell_type": "code",
   "execution_count": null,
   "metadata": {},
   "outputs": [],
   "source": [
    "# reorder categories so that new category is first\n",
    "ser1 = ser1.cat.reorder_categories(['not_measured','small','medium','large','x-large'])\n",
    "ser1"
   ]
  },
  {
   "cell_type": "code",
   "execution_count": null,
   "metadata": {},
   "outputs": [],
   "source": [
    "# make categories unordered\n",
    "ser1 = ser1.cat.as_unordered()\n",
    "ser1"
   ]
  },
  {
   "cell_type": "code",
   "execution_count": null,
   "metadata": {},
   "outputs": [],
   "source": [
    "# fillna with 'not_measured'\n",
    "ser1 = ser1.fillna('not_measured')\n",
    "#ser1 = ser1.fillna('missing')\n",
    "ser1"
   ]
  },
  {
   "cell_type": "code",
   "execution_count": null,
   "metadata": {},
   "outputs": [],
   "source": [
    "# creating a categorical datatype with automatic categories\n",
    "ser2 = pd.Series(['a','b','a','c','b','a']).astype('category')\n",
    "ser2"
   ]
  },
  {
   "cell_type": "markdown",
   "metadata": {},
   "source": [
    "#### Student Practice\n",
    "Try to perform the following tasks on the `vienna` dataset. Then check your answers as I walk through the solutions. Unless the exercise asks you to create a new DataFrame, you can assume that you are to alter the original `vienna` data."
   ]
  },
  {
   "cell_type": "markdown",
   "metadata": {},
   "source": [
    "**Exercise:** View the `host_response_time`, `host_response_rate`, and `host_acceptance_rate` columns of the `vienna` dataset."
   ]
  },
  {
   "cell_type": "code",
   "execution_count": null,
   "metadata": {
    "code_folding": []
   },
   "outputs": [],
   "source": [
    "### ENTER CODE HERE ###"
   ]
  },
  {
   "cell_type": "markdown",
   "metadata": {},
   "source": [
    "**Exercise:** For `host_response_time`, code all missing values as `unknown`"
   ]
  },
  {
   "cell_type": "code",
   "execution_count": null,
   "metadata": {
    "code_folding": []
   },
   "outputs": [],
   "source": [
    "### ENTER CODE HERE ###"
   ]
  },
  {
   "cell_type": "markdown",
   "metadata": {},
   "source": [
    "**Exercise:** Make the `host_response_time` a categorical datatype."
   ]
  },
  {
   "cell_type": "code",
   "execution_count": null,
   "metadata": {
    "code_folding": []
   },
   "outputs": [],
   "source": [
    "### ENTER CODE HERE ###"
   ]
  },
  {
   "cell_type": "markdown",
   "metadata": {},
   "source": [
    "**Exercise:** First, run the code below to turn the `host_acceptance_rate` and `host_response_rate` from strings to floats. \n",
    "\n",
    "Note that the `regex=True` determines if the passed-in pattern is a regular expression:\n",
    "\n",
    "- If True, assumes the passed-in pattern is a regular expression.\n",
    "\n",
    "- If False, treats the pattern as a literal string"
   ]
  },
  {
   "cell_type": "code",
   "execution_count": null,
   "metadata": {
    "code_folding": []
   },
   "outputs": [],
   "source": [
    "# change string values to floats\n",
    "vienna.loc[:,'host_acceptance_rate'] = vienna.loc[:,'host_acceptance_rate'].str.replace('\\%', '', regex=True).astype(float)\n",
    "vienna.loc[:,'host_response_rate'] = vienna.loc[:,'host_response_rate'].str.replace('\\%', '', regex=True).astype(float)"
   ]
  },
  {
   "cell_type": "markdown",
   "metadata": {},
   "source": [
    "**Exercise:** Create the following bins for the `host_acceptance_rate` and `host_response_rate` columns\n",
    "- 0 - 49\n",
    "- 50 - 79\n",
    "- 80 - 89\n",
    "- 90 - 99\n",
    "- 100"
   ]
  },
  {
   "cell_type": "code",
   "execution_count": null,
   "metadata": {
    "code_folding": []
   },
   "outputs": [],
   "source": [
    "### ENTER CODE HERE ###"
   ]
  },
  {
   "cell_type": "markdown",
   "metadata": {},
   "source": [
    "**Exercise:** \n",
    "1. Add a new `unknown` category for both `host_response_rate` and `host_acceptance_rate`. \n",
    "2. Re-order the categories so that `unknown` is first.\n",
    "3. Fill all missing values in these two columns with the `unknown` category."
   ]
  },
  {
   "cell_type": "code",
   "execution_count": null,
   "metadata": {
    "code_folding": []
   },
   "outputs": [],
   "source": [
    "### ENTER CODE HERE ###"
   ]
  },
  {
   "cell_type": "markdown",
   "metadata": {},
   "source": [
    "### Detecting & Filtering Outliers<a name=\"outlier\"></a>"
   ]
  },
  {
   "cell_type": "code",
   "execution_count": null,
   "metadata": {},
   "outputs": [],
   "source": [
    "# create DataFrame of normally distributed data\n",
    "data = pd.DataFrame(np.random.randn(1000, 4))\n",
    "data"
   ]
  },
  {
   "cell_type": "code",
   "execution_count": null,
   "metadata": {},
   "outputs": [],
   "source": [
    "data.describe()"
   ]
  },
  {
   "cell_type": "code",
   "execution_count": null,
   "metadata": {},
   "outputs": [],
   "source": [
    "# select values in column 1 that have values exceeding 3 in absolute value\n",
    "column1 = data[1]\n",
    "column1[np.abs(column1) > 3]"
   ]
  },
  {
   "cell_type": "code",
   "execution_count": null,
   "metadata": {},
   "outputs": [],
   "source": [
    "# select all rows having a value exceeding 3 or -3\n",
    "data[(np.abs(data) > 3).any(1)]"
   ]
  },
  {
   "cell_type": "code",
   "execution_count": null,
   "metadata": {},
   "outputs": [],
   "source": [
    "# now set the values based on this criteria\n",
    "data[np.abs(data) > 3] = np.sign(data) * 3"
   ]
  },
  {
   "cell_type": "code",
   "execution_count": null,
   "metadata": {},
   "outputs": [],
   "source": [
    "# look at results\n",
    "data[(np.abs(data) == 3).any(1)]"
   ]
  },
  {
   "cell_type": "code",
   "execution_count": null,
   "metadata": {},
   "outputs": [],
   "source": [
    "# notice min and max\n",
    "data.describe() "
   ]
  },
  {
   "cell_type": "code",
   "execution_count": null,
   "metadata": {},
   "outputs": [],
   "source": [
    "# np.sign() produces 1 and -1 values based on positive/negative\n",
    "np.sign(data).head()"
   ]
  },
  {
   "cell_type": "markdown",
   "metadata": {},
   "source": [
    "Now, let's look at the `price` column in the `vienna` dataset."
   ]
  },
  {
   "cell_type": "code",
   "execution_count": null,
   "metadata": {},
   "outputs": [],
   "source": [
    "# view price\n",
    "vienna['price']"
   ]
  },
  {
   "cell_type": "code",
   "execution_count": null,
   "metadata": {},
   "outputs": [],
   "source": [
    "# remove dollar signs and commas; change to float\n",
    "vienna['price'] = vienna['price'].str.replace('\\$', '', regex=True).str.replace(',','').astype(float)"
   ]
  },
  {
   "cell_type": "code",
   "execution_count": null,
   "metadata": {},
   "outputs": [],
   "source": [
    "# verify results\n",
    "vienna['price']"
   ]
  },
  {
   "cell_type": "code",
   "execution_count": null,
   "metadata": {},
   "outputs": [],
   "source": [
    "# let's plot the price data\n",
    "sns.kdeplot(data=vienna['price'], shade='fill')\n",
    "plt.show()"
   ]
  },
  {
   "cell_type": "code",
   "execution_count": null,
   "metadata": {},
   "outputs": [],
   "source": [
    "# check min price\n",
    "vienna['price'].min()"
   ]
  },
  {
   "cell_type": "code",
   "execution_count": null,
   "metadata": {},
   "outputs": [],
   "source": [
    "# remove instances with $0 price\n",
    "vienna = vienna.drop(vienna[vienna['price'] == 0].index)\n",
    "\n",
    "vienna['price'].min()"
   ]
  },
  {
   "cell_type": "code",
   "execution_count": null,
   "metadata": {},
   "outputs": [],
   "source": [
    "# example to explain previous index code \n",
    "vienna[vienna['price'] == 9.0].index"
   ]
  },
  {
   "cell_type": "code",
   "execution_count": null,
   "metadata": {},
   "outputs": [],
   "source": [
    "# check max price\n",
    "vienna['price'].max()"
   ]
  },
  {
   "cell_type": "code",
   "execution_count": null,
   "metadata": {},
   "outputs": [],
   "source": [
    "# 99% of data fall below the following price\n",
    "top = int(vienna['price'].quantile(0.99))\n",
    "top"
   ]
  },
  {
   "cell_type": "code",
   "execution_count": null,
   "metadata": {},
   "outputs": [],
   "source": [
    "# remove top 1% outliers\n",
    "vienna = vienna.drop(vienna[vienna['price'] > top].index)\n",
    "\n",
    "vienna['price'].max()"
   ]
  },
  {
   "cell_type": "code",
   "execution_count": null,
   "metadata": {},
   "outputs": [],
   "source": [
    "# check new kde plot with outliers removed\n",
    "sns.kdeplot(data=vienna['price'], shade='fill')\n",
    "plt.show()"
   ]
  },
  {
   "cell_type": "markdown",
   "metadata": {},
   "source": [
    "### Dummy Variables<a name=\"dummy\"></a>\n",
    "\n",
    "Convert categorical variables into dummy variables as a lot of machine learning algorithms work specifically with numerical data."
   ]
  },
  {
   "cell_type": "code",
   "execution_count": null,
   "metadata": {},
   "outputs": [],
   "source": [
    "# create a simple series\n",
    "ser = pd.Series(['dog','cat','dog','horse'])\n",
    "ser"
   ]
  },
  {
   "cell_type": "code",
   "execution_count": null,
   "metadata": {},
   "outputs": [],
   "source": [
    "pd.get_dummies(ser)"
   ]
  },
  {
   "cell_type": "code",
   "execution_count": null,
   "metadata": {},
   "outputs": [],
   "source": [
    "pd.get_dummies(ser, prefix='animal')"
   ]
  },
  {
   "cell_type": "code",
   "execution_count": null,
   "metadata": {},
   "outputs": [],
   "source": [
    "# reduces correlation and dimensionality of data\n",
    "pd.get_dummies(ser, drop_first=True)"
   ]
  },
  {
   "cell_type": "code",
   "execution_count": null,
   "metadata": {},
   "outputs": [],
   "source": [
    "ser1 = ['cat','dog',np.nan]\n",
    "ser1"
   ]
  },
  {
   "cell_type": "code",
   "execution_count": null,
   "metadata": {},
   "outputs": [],
   "source": [
    "pd.get_dummies(ser1)"
   ]
  },
  {
   "cell_type": "code",
   "execution_count": null,
   "metadata": {},
   "outputs": [],
   "source": [
    "pd.get_dummies(ser1, dummy_na=True)"
   ]
  },
  {
   "cell_type": "markdown",
   "metadata": {},
   "source": [
    "#### Student Practice\n",
    "Try to perform the following tasks on the `vienna` dataset. Then check your answers as I walk through the solutions. Unless the exercise asks you to create a new DataFrame, you can assume that you are to alter the original `vienna` data."
   ]
  },
  {
   "cell_type": "markdown",
   "metadata": {},
   "source": [
    "**Exercise:** What are the values and counts for the following three columns: `host_is_superhost`, `room_type`, and `property_type`?"
   ]
  },
  {
   "cell_type": "code",
   "execution_count": null,
   "metadata": {
    "code_folding": []
   },
   "outputs": [],
   "source": [
    "### ENTER CODE HERE ###"
   ]
  },
  {
   "cell_type": "markdown",
   "metadata": {},
   "source": [
    "**Exercise:** Use `get_dummies()` with the `room_type` and `property_type`columns. Add a prefix of your choosing and drop the first dummy variable for each. *Note: I didn't show you how to work with columns within a DataFrame. See if you can look at the [pandas documentation](https://pandas.pydata.org/docs/reference/api/pandas.get_dummies.html) to figure this out so that you update the `vienna` DataFrame.*"
   ]
  },
  {
   "cell_type": "code",
   "execution_count": null,
   "metadata": {
    "code_folding": []
   },
   "outputs": [],
   "source": [
    "### ENTER CODE HERE ###"
   ]
  },
  {
   "cell_type": "markdown",
   "metadata": {},
   "source": [
    "**Exercise:** To make sure you understand what `get_dummies()` is doing, can you take the `host_is_superhost` column and turn the values into dummy variables without using `get_dummies()`? Make sure that you only have one column called `superhost` after you are finished and the original column is deleted."
   ]
  },
  {
   "cell_type": "code",
   "execution_count": null,
   "metadata": {
    "code_folding": []
   },
   "outputs": [],
   "source": [
    "### ENTER CODE HERE ###"
   ]
  },
  {
   "cell_type": "markdown",
   "metadata": {},
   "source": [
    "## String Manipulation<a name=\"string\"></a>\n",
    "\n",
    "### String Object Methods<a name=\"string_object\"></a>\n",
    "\n",
    "One of Pythons most popular strengths is its ability to work with strings and text. Some of the more simple operations can easily be done with the built in string methods."
   ]
  },
  {
   "cell_type": "code",
   "execution_count": null,
   "metadata": {},
   "outputs": [],
   "source": [
    "# create simple string of text\n",
    "a = 'Jimmy,Anderson,  jimmy@gmail.com'\n",
    "a"
   ]
  },
  {
   "cell_type": "code",
   "execution_count": null,
   "metadata": {},
   "outputs": [],
   "source": [
    "# using the split() method\n",
    "a.split(',') # splits text on the comma"
   ]
  },
  {
   "cell_type": "code",
   "execution_count": null,
   "metadata": {},
   "outputs": [],
   "source": [
    "# strip() removes whitespace from around character\n",
    "b = [x.strip() for x in a.split(',')]\n",
    "b"
   ]
  },
  {
   "cell_type": "code",
   "execution_count": null,
   "metadata": {},
   "outputs": [],
   "source": [
    "# joining strings within a list\n",
    "'++'.join(b)"
   ]
  },
  {
   "cell_type": "code",
   "execution_count": null,
   "metadata": {},
   "outputs": [],
   "source": [
    "# count of number of commas\n",
    "a.count(',')"
   ]
  },
  {
   "cell_type": "code",
   "execution_count": null,
   "metadata": {},
   "outputs": [],
   "source": [
    "# replace strings in text\n",
    "a.replace(',','')"
   ]
  },
  {
   "cell_type": "markdown",
   "metadata": {},
   "source": [
    "There are many more [string methods](https://www.w3schools.com/python/python_ref_string.asp) that you can research, and you will learn more about some of these in the 575 Python class if you haven't already taken it.\n",
    "\n",
    "Now, let's try to clean up the 'messy' `amenities` column from the `vienna` data. "
   ]
  },
  {
   "cell_type": "code",
   "execution_count": null,
   "metadata": {},
   "outputs": [],
   "source": [
    "# view the amenities for one property\n",
    "vienna.iloc[0]['amenities']"
   ]
  },
  {
   "cell_type": "code",
   "execution_count": null,
   "metadata": {},
   "outputs": [],
   "source": [
    "# create an empty list\n",
    "all_amenities = []\n",
    "\n",
    "# iterate through rows, extending amenities to list\n",
    "for row in vienna.amenities:\n",
    "    all_amenities.extend(row.replace('[','').replace(']','').replace('\"','').lower().strip().split(','))"
   ]
  },
  {
   "cell_type": "code",
   "execution_count": null,
   "metadata": {},
   "outputs": [],
   "source": [
    "all_amenities"
   ]
  },
  {
   "cell_type": "code",
   "execution_count": null,
   "metadata": {},
   "outputs": [],
   "source": [
    "amenities_list = pd.unique(all_amenities)\n",
    "amenities_list"
   ]
  },
  {
   "cell_type": "code",
   "execution_count": null,
   "metadata": {},
   "outputs": [],
   "source": [
    "### Note: You are not responsible for knowing how to do this part of the code. This is to show you what can be done. ###\n",
    "amenity_values = vienna['amenities']\n",
    "amenity_values"
   ]
  },
  {
   "cell_type": "code",
   "execution_count": null,
   "metadata": {},
   "outputs": [],
   "source": [
    "# check the following for more information: https://docs.python.org/3/library/collections.html#collections.Counter\n",
    "from collections import Counter\n",
    "\n",
    "# create Series of amenities column\n",
    "amenity_values = vienna['amenities']\n",
    "\n",
    "# instantiate counter object\n",
    "counter = Counter()\n",
    "\n",
    "# update counter with each amenity and its total\n",
    "for response in amenity_values:\n",
    "    counter.update(response.replace('[','').replace(']','').replace('\"','').lower().split(','))\n",
    "\n",
    "# create two empty lists    \n",
    "amenities_list = []\n",
    "amenities_count = []\n",
    "\n",
    "# iterate through most common amenities in counter and append to lists\n",
    "for item in counter.most_common(50):\n",
    "    amenities_list.append(item[0])\n",
    "    amenities_count.append(item[1])\n",
    "    \n",
    "most_common_amenities = zip(amenities_list,amenities_count)\n",
    "print(list(most_common_amenities))"
   ]
  },
  {
   "cell_type": "code",
   "execution_count": null,
   "metadata": {},
   "outputs": [],
   "source": [
    "def amenities_to_columns(data):\n",
    "    '''\n",
    "    Creates new amenity features if the list of amenities for a respective property includes\n",
    "    certain key words.\n",
    "    \n",
    "    Returns: DataFrame\n",
    "    '''\n",
    "    # create list of new amenity columns\n",
    "    new_columns = ['tv','longterm','washing','cooking','fridge','fireplace','free_parking','paid_parking',\n",
    "                   'air_conditioning','balcony','water_access','coffee','breakfast','family','workspace']\n",
    "    \n",
    "    #search 'amenities' feature for keywords, create new column and dummy variable if true\n",
    "    data.loc[data['amenities'].str.contains('tv|cable|amazon prime|netflix', case=False), 'tv'] = 1\n",
    "    data.loc[data['amenities'].str.contains('long term', case=False), 'longterm'] = 1\n",
    "    data.loc[data['amenities'].str.contains('washer|dishwasher', case=False), 'washing'] = 1\n",
    "    data.loc[data['amenities'].str.contains('stove|oven|microwave', case=False), 'cooking'] = 1\n",
    "    data.loc[data['amenities'].str.contains('refrigerator|freezer|fridge', case=False), 'fridge'] = 1\n",
    "    data.loc[data['amenities'].str.contains('fireplace|fire pit', case=False), 'fireplace'] = 1\n",
    "    data.loc[data['amenities'].str.contains('free parking|free street parking', case=False), 'free_parking'] = 1\n",
    "    data.loc[data['amenities'].str.contains('paid parking|paid street parking',case=False), 'paid_parking'] = 1\n",
    "    data.loc[data['amenities'].str.contains('air conditioning|central air conditioning', case=False), 'air_conditioning'] = 1\n",
    "    data.loc[data['amenities'].str.contains('balcony|patio', case=False), 'balcony'] = 1\n",
    "    data.loc[data['amenities'].str.contains('hot tub|waterfront|pool|lake|beachfront', case=False), 'water_access'] = 1\n",
    "    data.loc[data['amenities'].str.contains('coffee|coffee machine|nespresso', case=False), 'coffee'] = 1\n",
    "    data.loc[data['amenities'].str.contains('breakfast', case=False), 'breakfast'] = 1\n",
    "    data.loc[data['amenities'].str.contains('high chair|crib|children|child|baby|family', case=False), 'family'] = 1\n",
    "    data.loc[data['amenities'].str.contains('workspace', case=False), 'workspace'] = 1\n",
    "\n",
    "    # replace na's with 0\n",
    "    data[new_columns] = data[new_columns].fillna(0)\n",
    "    \n",
    "    return data\n",
    "    \n",
    "vienna = amenities_to_columns(vienna)"
   ]
  },
  {
   "cell_type": "code",
   "execution_count": null,
   "metadata": {},
   "outputs": [],
   "source": [
    "vienna = vienna.drop('amenities', axis=1)\n",
    "vienna.head()"
   ]
  },
  {
   "cell_type": "markdown",
   "metadata": {},
   "source": [
    "### Regular Expressions<a name=\"regex\"></a>\n",
    "\n",
    "While string methods are powerful and can be used in a lot of different ways, sometimes you need a way to search a more complex string pattern. This is where regular expressions (`regex`) offer a flexible way to search or match complex patterns.\n",
    "\n",
    "Regex could be an entire module on its own, but we will cover some of the basics now."
   ]
  },
  {
   "cell_type": "markdown",
   "metadata": {},
   "source": [
    "https://www.dataquest.io/wp-content/uploads/2019/03/python-regular-expressions-cheat-sheet.pdf"
   ]
  },
  {
   "cell_type": "code",
   "execution_count": null,
   "metadata": {},
   "outputs": [],
   "source": [
    "# import the re module\n",
    "import re"
   ]
  },
  {
   "cell_type": "code",
   "execution_count": null,
   "metadata": {},
   "outputs": [],
   "source": [
    "# create a simple text message\n",
    "text = 'A     Lannister\\tnever\\nforgets'\n",
    "\n",
    "# split strings based on whitespace characters (tabs, spaces, newlines)\n",
    "re.split('\\s+', text)"
   ]
  },
  {
   "cell_type": "markdown",
   "metadata": {},
   "source": [
    "When you call `re.split()` it is first compiled, then the split method is called on the passed text. You can compile the regex yourself, which is highly recommended if you apply the same expression to many strings. This will also save you CPU cycles. "
   ]
  },
  {
   "cell_type": "code",
   "execution_count": null,
   "metadata": {},
   "outputs": [],
   "source": [
    "# setup text of names and emails\n",
    "emails = \"\"\"\n",
    "James james.anderson@eastern.edu\n",
    "Sally sally@gmail.com\n",
    "Ryan ryan22@yahoo.com\n",
    "\"\"\"\n",
    "\n",
    "# creating pattern using raw string literal\n",
    "pattern = r'\\b[A-Za-z0-9._%+-]+@[A-Za-z0-9.-]+\\.[A-Z|a-z]{2,}\\b' \n",
    "\n",
    "# compile the regex\n",
    "regex = re.compile(pattern, flags=re.IGNORECASE)"
   ]
  },
  {
   "cell_type": "code",
   "execution_count": null,
   "metadata": {},
   "outputs": [],
   "source": [
    "# returns all matches in a string\n",
    "regex.findall(emails)"
   ]
  },
  {
   "cell_type": "code",
   "execution_count": null,
   "metadata": {},
   "outputs": [],
   "source": [
    "# returns only the first match\n",
    "position = regex.search(emails) # first email, start and end position\n",
    "position"
   ]
  },
  {
   "cell_type": "code",
   "execution_count": null,
   "metadata": {},
   "outputs": [],
   "source": [
    "emails[position.start():position.end()]"
   ]
  },
  {
   "cell_type": "code",
   "execution_count": null,
   "metadata": {},
   "outputs": [],
   "source": [
    "# only matches the beginning of the string\n",
    "print(regex.match(emails)) #only match if pattern occurs at the start of the string"
   ]
  },
  {
   "cell_type": "code",
   "execution_count": null,
   "metadata": {},
   "outputs": [],
   "source": [
    "# simple program to validate an email\n",
    "\n",
    "#create email list\n",
    "email_list = ['james.anderson@eastern.edu','sally@gmail.com','ryan22@yahoo']\n",
    "\n",
    "# iterate through emails\n",
    "for email in email_list:\n",
    "    if (re.fullmatch(regex, email)):\n",
    "        print(\"Valid Email\")\n",
    " \n",
    "    else:\n",
    "        print(\"Invalid Email\")\n",
    "        "
   ]
  },
  {
   "cell_type": "code",
   "execution_count": null,
   "metadata": {},
   "outputs": [],
   "source": [
    "# returns new string with occurrences of the pattern replaced by the new string\n",
    "print(regex.sub('REDACTED', emails))"
   ]
  },
  {
   "cell_type": "code",
   "execution_count": null,
   "metadata": {},
   "outputs": [],
   "source": [
    "# wrap parentheses around different segments\n",
    "pattern2 = r'(\\b[A-Za-z0-9._%+-]+)@([A-Za-z0-9.-]+)\\.([A-Z|a-z]{2,}\\b)'\n",
    "\n",
    "# compile with new pattern\n",
    "regex = re.compile(pattern2, flags=re.IGNORECASE)\n",
    "\n",
    "# returns tuple of matched components\n",
    "segments = regex.match('jamie.andrews@eastern.edu')\n",
    "segments\n",
    "\n",
    "segments.groups()"
   ]
  },
  {
   "cell_type": "markdown",
   "metadata": {},
   "source": [
    "Let's look at a practical example using our `vienna` dataset. We need to turn the strings as listed in the `bathrooms_text` column to floats."
   ]
  },
  {
   "cell_type": "code",
   "execution_count": null,
   "metadata": {},
   "outputs": [],
   "source": [
    "# view column\n",
    "vienna['bathrooms_text'].value_counts()"
   ]
  },
  {
   "cell_type": "code",
   "execution_count": null,
   "metadata": {},
   "outputs": [],
   "source": [
    "pattern = r\"[-+]?\\d*\\.\\d+|\\d+\"\n",
    "# [-+] --> handles plus or minus signs\n",
    "# ? -->  matches the expression to its left 0 or 1 times.\n",
    "# \\d --> matches digits\n",
    "# * --> matches the expression to its left 0 or more times.\n",
    "# \\. --> escapes the decimal character\n",
    "# + --> y matches the expression to its left 1 or more times.\n",
    "# | --> matches expression before or after \n",
    "\n",
    "\n",
    "def bathroomtext_to_num(text):\n",
    "    '''\n",
    "    Strips out number from bathrooms_text field \n",
    "    \n",
    "    Returns: float\n",
    "    '''\n",
    "    pattern = r\"[-+]?\\d*\\.\\d+|\\d+\"  \n",
    "    regex = re.compile(pattern)\n",
    "    num_baths = regex.findall(str(text))\n",
    "    \n",
    "    if 'half' in str(text).lower():\n",
    "        return 0.5\n",
    "    elif num_baths == []:\n",
    "        return 1\n",
    "    else:\n",
    "        return num_baths[0]\n",
    "\n",
    "# apply custom function to 'bathrooms_text' column\n",
    "vienna['bathrooms'] = vienna.apply(lambda row: bathroomtext_to_num(row['bathrooms_text']), axis=1).astype('float64')\n"
   ]
  },
  {
   "cell_type": "code",
   "execution_count": null,
   "metadata": {},
   "outputs": [],
   "source": [
    "# view new 'bathrooms' feature\n",
    "vienna[['bathrooms','bathrooms_text']].head(10)"
   ]
  },
  {
   "cell_type": "code",
   "execution_count": null,
   "metadata": {},
   "outputs": [],
   "source": [
    "vienna = vienna.drop('bathrooms_text', axis=1)"
   ]
  },
  {
   "cell_type": "code",
   "execution_count": null,
   "metadata": {},
   "outputs": [],
   "source": [
    "vienna.head()  "
   ]
  },
  {
   "cell_type": "markdown",
   "metadata": {},
   "source": [
    "## Extra Practice: Plotting and Miscellaneous<a name='extra'></a>"
   ]
  },
  {
   "cell_type": "markdown",
   "metadata": {},
   "source": [
    "**Exercise:** Plot a [scatterplot](https://seaborn.pydata.org/generated/seaborn.scatterplot.html) of longitude and latitude using the 'free_parking' attribute as the color. What do you notice about properties with free parking?"
   ]
  },
  {
   "cell_type": "code",
   "execution_count": null,
   "metadata": {
    "code_folding": []
   },
   "outputs": [],
   "source": [
    "### ENTER CODE HERE ###"
   ]
  },
  {
   "cell_type": "markdown",
   "metadata": {},
   "source": [
    "**Exercise:** Plot a scatterplot of longitude and latitude using price as the color. Do you notice any discerable pattern in terms of price versus the area of Vienna?"
   ]
  },
  {
   "cell_type": "code",
   "execution_count": null,
   "metadata": {
    "code_folding": []
   },
   "outputs": [],
   "source": [
    "### ENTER CODE HERE ###"
   ]
  },
  {
   "cell_type": "markdown",
   "metadata": {},
   "source": [
    "**Exercise:** Plot a [violin plot](https://seaborn.pydata.org/generated/seaborn.violinplot.html) using the price and the neighborhood name. What neighborhoods seem to have the largest range and highest median prices?"
   ]
  },
  {
   "cell_type": "code",
   "execution_count": null,
   "metadata": {
    "code_folding": []
   },
   "outputs": [],
   "source": [
    "### ENTER CODE HERE ###"
   ]
  },
  {
   "cell_type": "markdown",
   "metadata": {},
   "source": [
    "**Exercise:** What areas have the most listings? Create a [horizontal bar chart](https://seaborn.pydata.org/generated/seaborn.countplot.html) to show these listings by neighborhood."
   ]
  },
  {
   "cell_type": "code",
   "execution_count": null,
   "metadata": {
    "code_folding": []
   },
   "outputs": [],
   "source": [
    "### ENTER CODE HERE ###"
   ]
  },
  {
   "cell_type": "markdown",
   "metadata": {},
   "source": [
    "**Exercise:** Using a pivot table, show the top hosts (represented by `host_id`) that have the most multiple listings (`calculated_host_listings_count`)."
   ]
  },
  {
   "cell_type": "code",
   "execution_count": null,
   "metadata": {
    "code_folding": []
   },
   "outputs": [],
   "source": [
    "### ENTER CODE HERE ###"
   ]
  },
  {
   "cell_type": "markdown",
   "metadata": {},
   "source": [
    "**Exercise:** How many beds, bedrooms, and bathrooms do most properties have? What percentage of properties have those respective most common values?"
   ]
  },
  {
   "cell_type": "code",
   "execution_count": null,
   "metadata": {
    "code_folding": []
   },
   "outputs": [],
   "source": [
    "### ENTER CODE HERE ###"
   ]
  },
  {
   "cell_type": "markdown",
   "metadata": {},
   "source": [
    "**Exercise:** Similar to how we binned the `host_response_time`, `host_response_rate`, and `host_acceptance_rate`, perform a similar binning for the various review scores attributes.\n",
    "    \n",
    "- `review_scores_rating`: bin the review scores between '0-79', '80-94','95-99' and '100'.\n",
    "- other review ratings: bin these scores between '0-8','9', and '10'\n",
    "- add an unknown category and fill the na's with 'unkown' (don't forget to reorder your categories so that 'unknown' is first)"
   ]
  },
  {
   "cell_type": "code",
   "execution_count": null,
   "metadata": {
    "code_folding": []
   },
   "outputs": [],
   "source": [
    "### ENTER CODE HERE ###"
   ]
  },
  {
   "cell_type": "markdown",
   "metadata": {},
   "source": [
    "## Conclusion<a name=\"conclusion\"></a>"
   ]
  },
  {
   "cell_type": "markdown",
   "metadata": {},
   "source": [
    "In reality, a lot more needs to be done to this dataset before it is ready for a machine learning algorithm to be run. Also, as I mentioned above, there are sometimes easier ways to perform some of these data manipulations using Scikit-learn, which you will learn about more in the machine learning classes.\n",
    "\n",
    "After cleaning up the data further, checking for correlation between the attributes, dropping attributes and creating some new ones using this data, the best machine learning model was able to predict **66%** of the price using this data with a RMSE score of **0.3643** (the target value was changed to use the log of the price).\n",
    "\n",
    "Given the above results, my conclusion is that this data can be used to predict prices somewhat but more work or more data is needed to create a better model. Future work could involve:\n",
    "\n",
    "- performing analysis on the photos and determine if they have an impact on price\n",
    "- performing a sentiment analysis on the foreign language comments (from a different file on the InsideAirbnb website) to determine if the guest comments could be an indicator of price. I was able to perform a sentiment analysis on the English language comments and there was not much impact on the model.\n",
    "- further feature extraction/elimination\n",
    "- prices are the listed prices from the Airbnb website. A more accurate model might be obtained by using the prices that guests actually paid for a property\n",
    "- personally scrape data from the Aribnb website to obtain more information than what is listed in the file"
   ]
  }
 ],
 "metadata": {
  "kernelspec": {
   "display_name": "Python 3 (ipykernel)",
   "language": "python",
   "name": "python3"
  },
  "language_info": {
   "codemirror_mode": {
    "name": "ipython",
    "version": 3
   },
   "file_extension": ".py",
   "mimetype": "text/x-python",
   "name": "python",
   "nbconvert_exporter": "python",
   "pygments_lexer": "ipython3",
   "version": "3.9.7"
  }
 },
 "nbformat": 4,
 "nbformat_minor": 4
}
