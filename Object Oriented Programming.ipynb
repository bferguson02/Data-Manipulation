{
 "cells": [
  {
   "cell_type": "markdown",
   "id": "e903fbde",
   "metadata": {},
   "source": [
    "### What are objects?\n",
    "\n",
    "Objects are a type of data structure that contain both data and code\n",
    "\n",
    "-Attributes\n",
    "-Methods"
   ]
  },
  {
   "cell_type": "markdown",
   "id": "f734ae68",
   "metadata": {},
   "source": [
    "##### Integers can do things that floats and strings cannot\n",
    "\n",
    "Classes:  a mold that creates the object boxes\n",
    "    Classes is how Python knows what to do with objects\n",
    "    Classes are blueprints/instructions for new objects"
   ]
  },
  {
   "cell_type": "markdown",
   "id": "70a230c0",
   "metadata": {},
   "source": [
    "#### Defining a class"
   ]
  },
  {
   "cell_type": "code",
   "execution_count": 1,
   "id": "73d8139a",
   "metadata": {},
   "outputs": [],
   "source": [
    "#define your class using class keyword\n",
    "\n",
    "class Cat():\n",
    "    pass"
   ]
  },
  {
   "cell_type": "code",
   "execution_count": 2,
   "id": "4fe61b67",
   "metadata": {},
   "outputs": [],
   "source": [
    "a_cat = Cat()\n",
    "another_cat = Cat()"
   ]
  },
  {
   "cell_type": "code",
   "execution_count": 3,
   "id": "4c9bc5a2",
   "metadata": {},
   "outputs": [
    {
     "data": {
      "text/plain": [
       "<__main__.Cat at 0x287a8daf160>"
      ]
     },
     "execution_count": 3,
     "metadata": {},
     "output_type": "execute_result"
    }
   ],
   "source": [
    "a_cat"
   ]
  },
  {
   "cell_type": "markdown",
   "id": "12bb0257",
   "metadata": {},
   "source": [
    "#### See above, it's a CAT object"
   ]
  },
  {
   "cell_type": "markdown",
   "id": "c5ccce5e",
   "metadata": {},
   "source": [
    "## Attributes"
   ]
  },
  {
   "cell_type": "markdown",
   "id": "2960832a",
   "metadata": {},
   "source": [
    "#### Attributes: variables inside a class or object"
   ]
  },
  {
   "cell_type": "code",
   "execution_count": 4,
   "id": "9ace5103",
   "metadata": {},
   "outputs": [],
   "source": [
    "a_cat.age = 3\n",
    "a_cat.name = 'Mr.Fuzzybuttons'\n",
    "a_cat.nemesis = another_cat"
   ]
  },
  {
   "cell_type": "code",
   "execution_count": 5,
   "id": "2310ae5c",
   "metadata": {},
   "outputs": [
    {
     "name": "stdout",
     "output_type": "stream",
     "text": [
      "3\n",
      "Mr.Fuzzybuttons\n",
      "<__main__.Cat object at 0x00000287A8DAF280>\n"
     ]
    }
   ],
   "source": [
    "print(a_cat.age)\n",
    "print(a_cat.name)\n",
    "print(a_cat.nemesis)"
   ]
  },
  {
   "cell_type": "code",
   "execution_count": 7,
   "id": "14902858",
   "metadata": {},
   "outputs": [],
   "source": [
    "#haven't given the nemesis a name yet\n",
    "\n",
    "a_cat.nemesis.name = 'Mr. Bigglesworth'"
   ]
  },
  {
   "cell_type": "code",
   "execution_count": 8,
   "id": "2f661020",
   "metadata": {},
   "outputs": [
    {
     "data": {
      "text/plain": [
       "'Mr. Bigglesworth'"
      ]
     },
     "execution_count": 8,
     "metadata": {},
     "output_type": "execute_result"
    }
   ],
   "source": [
    "a_cat.nemesis.name"
   ]
  },
  {
   "cell_type": "code",
   "execution_count": 9,
   "id": "a072d526",
   "metadata": {},
   "outputs": [
    {
     "data": {
      "text/plain": [
       "'Mr. Bigglesworth'"
      ]
     },
     "execution_count": 9,
     "metadata": {},
     "output_type": "execute_result"
    }
   ],
   "source": [
    "another_cat.name"
   ]
  },
  {
   "cell_type": "markdown",
   "id": "f0ce8ad0",
   "metadata": {},
   "source": [
    "## Methods\n",
    "\n",
    "Methods: functions in a class or object"
   ]
  },
  {
   "cell_type": "code",
   "execution_count": 11,
   "id": "eedabe56",
   "metadata": {},
   "outputs": [],
   "source": [
    "#assign attributes by initializing with __init__():\n",
    "#Two underscores, aka 'dunder'\n",
    "\n",
    "class Cat:\n",
    "    def __init__(self):\n",
    "        pass"
   ]
  },
  {
   "cell_type": "markdown",
   "id": "18747a3a",
   "metadata": {},
   "source": [
    "#### When defining __init__() first parameter should be names SELF\n",
    "\n",
    "We can add additional parameters, too"
   ]
  },
  {
   "cell_type": "code",
   "execution_count": 12,
   "id": "68596c47",
   "metadata": {},
   "outputs": [],
   "source": [
    "class Cat():\n",
    "    def __init__(self, name):\n",
    "        self.name = name"
   ]
  },
  {
   "cell_type": "markdown",
   "id": "4ddbacde",
   "metadata": {},
   "source": [
    "#### Inside our definition, self.name is how you access the name attribue"
   ]
  },
  {
   "cell_type": "code",
   "execution_count": 13,
   "id": "ff0184ae",
   "metadata": {},
   "outputs": [],
   "source": [
    "furball = Cat('Grumpy')"
   ]
  },
  {
   "cell_type": "markdown",
   "id": "8d2f7d88",
   "metadata": {},
   "source": [
    "#### When we create our object, we use the name to refer to the name attribute"
   ]
  },
  {
   "cell_type": "code",
   "execution_count": 14,
   "id": "c9541f06",
   "metadata": {},
   "outputs": [
    {
     "data": {
      "text/plain": [
       "'Grumpy'"
      ]
     },
     "execution_count": 14,
     "metadata": {},
     "output_type": "execute_result"
    }
   ],
   "source": [
    "furball.name"
   ]
  },
  {
   "cell_type": "code",
   "execution_count": 15,
   "id": "6ecdc6b9",
   "metadata": {},
   "outputs": [],
   "source": [
    "class Player():\n",
    "    def __init__(self, name):\n",
    "        self.name = name"
   ]
  },
  {
   "cell_type": "code",
   "execution_count": 16,
   "id": "0b451f43",
   "metadata": {},
   "outputs": [],
   "source": [
    "hornets = Player('Morant')"
   ]
  },
  {
   "cell_type": "code",
   "execution_count": 17,
   "id": "9a8a69bb",
   "metadata": {},
   "outputs": [
    {
     "data": {
      "text/plain": [
       "'Morant'"
      ]
     },
     "execution_count": 17,
     "metadata": {},
     "output_type": "execute_result"
    }
   ],
   "source": [
    "hornets.name"
   ]
  },
  {
   "cell_type": "markdown",
   "id": "e6cb3e3f",
   "metadata": {},
   "source": [
    "## Inheritance"
   ]
  },
  {
   "cell_type": "markdown",
   "id": "48de1dba",
   "metadata": {},
   "source": [
    "#### One of the pillars of object-oriented programming\n",
    "\n",
    "Idea: create a new class from an existing class\n",
    "\n",
    "Original class called \"parent\", \"superclass\", or \"base class\"\n",
    "\n",
    "New class is called \"child\", \"subclass\", or \"derived class\""
   ]
  },
  {
   "cell_type": "code",
   "execution_count": 18,
   "id": "9c505dc0",
   "metadata": {},
   "outputs": [],
   "source": [
    "class Car():\n",
    "    pass"
   ]
  },
  {
   "cell_type": "markdown",
   "id": "00df1d7b",
   "metadata": {},
   "source": [
    "#### Here we created class Car and then create class Yogo from Car"
   ]
  },
  {
   "cell_type": "code",
   "execution_count": 19,
   "id": "a093fbfd",
   "metadata": {},
   "outputs": [],
   "source": [
    "class Yugo(Car):\n",
    "    pass"
   ]
  },
  {
   "cell_type": "code",
   "execution_count": 20,
   "id": "63d2dcb1",
   "metadata": {},
   "outputs": [
    {
     "data": {
      "text/plain": [
       "True"
      ]
     },
     "execution_count": 20,
     "metadata": {},
     "output_type": "execute_result"
    }
   ],
   "source": [
    "#Yugo is a car\n",
    "\n",
    "issubclass(Yugo, Car)"
   ]
  },
  {
   "cell_type": "code",
   "execution_count": 21,
   "id": "61354401",
   "metadata": {},
   "outputs": [
    {
     "data": {
      "text/plain": [
       "False"
      ]
     },
     "execution_count": 21,
     "metadata": {},
     "output_type": "execute_result"
    }
   ],
   "source": [
    "issubclass(Car, Yugo)"
   ]
  },
  {
   "cell_type": "code",
   "execution_count": 22,
   "id": "3c975c7a",
   "metadata": {},
   "outputs": [],
   "source": [
    "class Car():\n",
    "    def exclaim(self):\n",
    "        print(\"I'm a Car!\")\n",
    "\n",
    "class Yugo(Car):\n",
    "    pass"
   ]
  },
  {
   "cell_type": "code",
   "execution_count": 23,
   "id": "a1ec28d0",
   "metadata": {},
   "outputs": [],
   "source": [
    "give_me_a_car = Car()\n",
    "give_me_a_yugo = Yugo()"
   ]
  },
  {
   "cell_type": "code",
   "execution_count": 24,
   "id": "f36a9d89",
   "metadata": {},
   "outputs": [
    {
     "name": "stdout",
     "output_type": "stream",
     "text": [
      "I'm a Car!\n"
     ]
    }
   ],
   "source": [
    "give_me_a_car.exclaim()"
   ]
  },
  {
   "cell_type": "code",
   "execution_count": 25,
   "id": "e1b02f78",
   "metadata": {},
   "outputs": [
    {
     "name": "stdout",
     "output_type": "stream",
     "text": [
      "I'm a Car!\n"
     ]
    }
   ],
   "source": [
    "give_me_a_yugo.exclaim()"
   ]
  },
  {
   "cell_type": "markdown",
   "id": "912fecd2",
   "metadata": {},
   "source": [
    "#### Here, Yugo inherits the exclaim() method from it's parent, Car"
   ]
  },
  {
   "cell_type": "markdown",
   "id": "47e78075",
   "metadata": {},
   "source": [
    "## Overriding and Adding Methods"
   ]
  },
  {
   "cell_type": "markdown",
   "id": "11844946",
   "metadata": {},
   "source": [
    "#### By default, new classes inherit everything from their parent"
   ]
  },
  {
   "cell_type": "code",
   "execution_count": 26,
   "id": "f93f74be",
   "metadata": {},
   "outputs": [],
   "source": [
    "class Car():\n",
    "    def exclaim(self):\n",
    "        print(\"I'm a car!\")\n",
    "\n",
    "class Yugo(Car):\n",
    "    def exclaim(self):\n",
    "        print(\"I'm a Yugo!\")"
   ]
  },
  {
   "cell_type": "code",
   "execution_count": 27,
   "id": "85651b9e",
   "metadata": {},
   "outputs": [],
   "source": [
    "give_me_a_car = Car()"
   ]
  },
  {
   "cell_type": "code",
   "execution_count": 28,
   "id": "f234c832",
   "metadata": {},
   "outputs": [],
   "source": [
    "give_me_a_yugo = Yugo()"
   ]
  },
  {
   "cell_type": "code",
   "execution_count": 29,
   "id": "fbbf3b9c",
   "metadata": {},
   "outputs": [
    {
     "name": "stdout",
     "output_type": "stream",
     "text": [
      "I'm a car!\n"
     ]
    }
   ],
   "source": [
    "give_me_a_car.exclaim()"
   ]
  },
  {
   "cell_type": "code",
   "execution_count": 30,
   "id": "b1c95a54",
   "metadata": {},
   "outputs": [
    {
     "name": "stdout",
     "output_type": "stream",
     "text": [
      "I'm a Yugo!\n"
     ]
    }
   ],
   "source": [
    "give_me_a_yugo.exclaim()"
   ]
  },
  {
   "cell_type": "code",
   "execution_count": 37,
   "id": "83a29a88",
   "metadata": {},
   "outputs": [],
   "source": [
    "class Person():\n",
    "    def __init__(self, name):\n",
    "        self.name = name\n",
    "\n",
    "class MDPerson(Person):\n",
    "    def __init__(self, name):\n",
    "        self.name = \"Doctor \" + name\n",
    "        \n",
    "class JDPerson(Person):\n",
    "    def __init__(self, name):\n",
    "        self.name = name + \", Esquire\""
   ]
  },
  {
   "cell_type": "code",
   "execution_count": 38,
   "id": "a8afe7ac",
   "metadata": {},
   "outputs": [],
   "source": [
    "person = Person('Fudd')"
   ]
  },
  {
   "cell_type": "code",
   "execution_count": 39,
   "id": "a906815a",
   "metadata": {},
   "outputs": [],
   "source": [
    "doctor = MDPerson('Fudd')\n",
    "lawyer= JDPerson('Fudd')"
   ]
  },
  {
   "cell_type": "code",
   "execution_count": 41,
   "id": "fb24b9d1",
   "metadata": {},
   "outputs": [
    {
     "name": "stdout",
     "output_type": "stream",
     "text": [
      "Fudd\n",
      "Doctor Fudd\n",
      "Fudd, Esquire\n",
      "\n"
     ]
    }
   ],
   "source": [
    "print(person.name + \"\\n\" + doctor.name + \"\\n\" + lawyer.name + \"\\n\")"
   ]
  },
  {
   "cell_type": "markdown",
   "id": "040696c5",
   "metadata": {},
   "source": [
    "#### Adding a method"
   ]
  },
  {
   "cell_type": "code",
   "execution_count": 42,
   "id": "d5accae6",
   "metadata": {},
   "outputs": [],
   "source": [
    "class Car():\n",
    "    def exclaim(self):\n",
    "        print(\"I'm a Car!\")\n",
    "        \n",
    "class Yugo(Car):\n",
    "    def exclaim(self):\n",
    "        print(\"I'm a Yugo!\")\n",
    "    def need_a_push(self):\n",
    "        print(\"A little help here?\")"
   ]
  },
  {
   "cell_type": "code",
   "execution_count": 43,
   "id": "a33a33c4",
   "metadata": {},
   "outputs": [],
   "source": [
    "my_car = Car()\n",
    "my_yugo = Yugo()"
   ]
  },
  {
   "cell_type": "code",
   "execution_count": 44,
   "id": "b96a3eb6",
   "metadata": {},
   "outputs": [
    {
     "name": "stdout",
     "output_type": "stream",
     "text": [
      "I'm a Car!\n"
     ]
    }
   ],
   "source": [
    "my_car.exclaim()"
   ]
  },
  {
   "cell_type": "code",
   "execution_count": 45,
   "id": "737dd054",
   "metadata": {},
   "outputs": [
    {
     "name": "stdout",
     "output_type": "stream",
     "text": [
      "I'm a Yugo!\n"
     ]
    }
   ],
   "source": [
    "my_yugo.exclaim()"
   ]
  },
  {
   "cell_type": "code",
   "execution_count": 46,
   "id": "7b3bc146",
   "metadata": {},
   "outputs": [
    {
     "name": "stdout",
     "output_type": "stream",
     "text": [
      "A little help here?\n"
     ]
    }
   ],
   "source": [
    "my_yugo.need_a_push()"
   ]
  },
  {
   "cell_type": "code",
   "execution_count": 47,
   "id": "aec1087e",
   "metadata": {},
   "outputs": [
    {
     "ename": "AttributeError",
     "evalue": "'Car' object has no attribute 'need_a_push'",
     "output_type": "error",
     "traceback": [
      "\u001b[1;31m---------------------------------------------------------------------------\u001b[0m",
      "\u001b[1;31mAttributeError\u001b[0m                            Traceback (most recent call last)",
      "\u001b[1;32m~\\AppData\\Local\\Temp/ipykernel_2540/1352982014.py\u001b[0m in \u001b[0;36m<module>\u001b[1;34m\u001b[0m\n\u001b[1;32m----> 1\u001b[1;33m \u001b[0mmy_car\u001b[0m\u001b[1;33m.\u001b[0m\u001b[0mneed_a_push\u001b[0m\u001b[1;33m(\u001b[0m\u001b[1;33m)\u001b[0m\u001b[1;33m\u001b[0m\u001b[1;33m\u001b[0m\u001b[0m\n\u001b[0m",
      "\u001b[1;31mAttributeError\u001b[0m: 'Car' object has no attribute 'need_a_push'"
     ]
    }
   ],
   "source": [
    "my_car.need_a_push()"
   ]
  },
  {
   "cell_type": "markdown",
   "id": "ade75959",
   "metadata": {},
   "source": [
    "## Attributes, Getters, and Setters"
   ]
  },
  {
   "cell_type": "markdown",
   "id": "d1e32e91",
   "metadata": {},
   "source": [
    "### Attribute Access"
   ]
  },
  {
   "cell_type": "markdown",
   "id": "bc15a4a9",
   "metadata": {},
   "source": [
    "###### Encapsulation: Keeping attributes and methods self-contained, restricting accessability from outside\n",
    "\n",
    "Internal machinations are hidden from the outside\n",
    "\n",
    "Python not as strict- generally attributes are more accessabile than\n",
    "other languages\n",
    "\n",
    "Remember: we have attributes (member attributes) and methods (member functions)\n",
    "\n",
    "Attributes are generally directly accessible"
   ]
  },
  {
   "cell_type": "code",
   "execution_count": 49,
   "id": "22c04514",
   "metadata": {},
   "outputs": [],
   "source": [
    "class Duck():\n",
    "    def __init__(self, input_name):\n",
    "        self.name = input_name"
   ]
  },
  {
   "cell_type": "code",
   "execution_count": 50,
   "id": "d64931aa",
   "metadata": {},
   "outputs": [
    {
     "data": {
      "text/plain": [
       "'Daffy'"
      ]
     },
     "execution_count": 50,
     "metadata": {},
     "output_type": "execute_result"
    }
   ],
   "source": [
    "fowl = Duck('Daffy')\n",
    "\n",
    "fowl.name"
   ]
  },
  {
   "cell_type": "markdown",
   "id": "32c2f8da",
   "metadata": {},
   "source": [
    "#### In Python, you can directly change this, unlike some other languages"
   ]
  },
  {
   "cell_type": "code",
   "execution_count": 51,
   "id": "950636fd",
   "metadata": {},
   "outputs": [
    {
     "data": {
      "text/plain": [
       "'Daphne'"
      ]
     },
     "execution_count": 51,
     "metadata": {},
     "output_type": "execute_result"
    }
   ],
   "source": [
    "fowl.name = 'Daphne'\n",
    "fowl.name"
   ]
  },
  {
   "cell_type": "markdown",
   "id": "f3726423",
   "metadata": {},
   "source": [
    "## Getters & Setters"
   ]
  },
  {
   "cell_type": "markdown",
   "id": "3e386325",
   "metadata": {},
   "source": [
    "#### The two types of methods: getters & setters"
   ]
  },
  {
   "cell_type": "markdown",
   "id": "d35ba875",
   "metadata": {},
   "source": [
    "#### (accessors/mutators)\n",
    "\n",
    "Getters: go and get values of attributes\n",
    "    -They DO NOT change the state of the object\n",
    "\n",
    "Setters: change the state of the object"
   ]
  },
  {
   "cell_type": "code",
   "execution_count": 1,
   "id": "f41b9932",
   "metadata": {},
   "outputs": [],
   "source": [
    "class Duck():\n",
    "    def __init__(self, input_name):\n",
    "        self.hidden_name = input_name\n",
    "    def get_name(self):\n",
    "        print('inside the getter')\n",
    "        return self.hidden_name\n",
    "    def set_name(self, input_name):\n",
    "        print('inside the setter')\n",
    "        self.hidden_name = input_name"
   ]
  },
  {
   "cell_type": "code",
   "execution_count": 2,
   "id": "24ff160e",
   "metadata": {},
   "outputs": [
    {
     "name": "stdout",
     "output_type": "stream",
     "text": [
      "inside the getter\n"
     ]
    },
    {
     "data": {
      "text/plain": [
       "'Donald'"
      ]
     },
     "execution_count": 2,
     "metadata": {},
     "output_type": "execute_result"
    }
   ],
   "source": [
    "don = Duck('Donald')\n",
    "don.get_name()"
   ]
  },
  {
   "cell_type": "code",
   "execution_count": 3,
   "id": "6435b091",
   "metadata": {},
   "outputs": [
    {
     "name": "stdout",
     "output_type": "stream",
     "text": [
      "inside the setter\n"
     ]
    }
   ],
   "source": [
    "don.set_name('Donna')"
   ]
  },
  {
   "cell_type": "code",
   "execution_count": 4,
   "id": "6e2d1fd9",
   "metadata": {},
   "outputs": [
    {
     "name": "stdout",
     "output_type": "stream",
     "text": [
      "inside the getter\n"
     ]
    },
    {
     "data": {
      "text/plain": [
       "'Donna'"
      ]
     },
     "execution_count": 4,
     "metadata": {},
     "output_type": "execute_result"
    }
   ],
   "source": [
    "don.get_name()"
   ]
  },
  {
   "cell_type": "markdown",
   "id": "6522c5d2",
   "metadata": {},
   "source": [
    "## Instead of using get_name() and set_name() seperately, we can be more\n",
    "Pythonic by using property()"
   ]
  },
  {
   "cell_type": "code",
   "execution_count": 5,
   "id": "480dd03d",
   "metadata": {},
   "outputs": [],
   "source": [
    "class Duck():\n",
    "    def __init__(self, input_name):\n",
    "        self.hidden_name = input_name\n",
    "    def get_name(self):\n",
    "        print('inside the getter')\n",
    "        return self.hidden_name\n",
    "    def set_name(self, input_name):\n",
    "        print('inside the setter')\n",
    "        self.hidden_name = input_name\n",
    "    name = property(get_name, set_name)"
   ]
  },
  {
   "cell_type": "code",
   "execution_count": 6,
   "id": "94451bed",
   "metadata": {},
   "outputs": [
    {
     "name": "stdout",
     "output_type": "stream",
     "text": [
      "inside the getter\n"
     ]
    },
    {
     "data": {
      "text/plain": [
       "'Donald'"
      ]
     },
     "execution_count": 6,
     "metadata": {},
     "output_type": "execute_result"
    }
   ],
   "source": [
    "don = Duck('Donald')\n",
    "don.name"
   ]
  },
  {
   "cell_type": "code",
   "execution_count": 7,
   "id": "9269a3b9",
   "metadata": {},
   "outputs": [
    {
     "name": "stdout",
     "output_type": "stream",
     "text": [
      "inside the setter\n"
     ]
    }
   ],
   "source": [
    "don.name = 'Donna'"
   ]
  },
  {
   "cell_type": "code",
   "execution_count": 8,
   "id": "75e64aaf",
   "metadata": {},
   "outputs": [
    {
     "name": "stdout",
     "output_type": "stream",
     "text": [
      "inside the getter\n"
     ]
    },
    {
     "data": {
      "text/plain": [
       "'Donna'"
      ]
     },
     "execution_count": 8,
     "metadata": {},
     "output_type": "execute_result"
    }
   ],
   "source": [
    "don.name"
   ]
  },
  {
   "cell_type": "markdown",
   "id": "81b2e2a6",
   "metadata": {},
   "source": [
    "#### The following is similar, but more decorative"
   ]
  },
  {
   "cell_type": "code",
   "execution_count": 9,
   "id": "ec2ce910",
   "metadata": {},
   "outputs": [],
   "source": [
    "class Duck():\n",
    "    def __init__(self, input_name):\n",
    "        self.hidden_name = input_name\n",
    "    @property\n",
    "    def name(self):\n",
    "        print('inside the getter')\n",
    "        return self.hidden_name\n",
    "    @name.setter\n",
    "    def name(self, input_name):\n",
    "        print('inside the setter')\n",
    "        self.hidden_name = input_name"
   ]
  },
  {
   "cell_type": "code",
   "execution_count": 10,
   "id": "901e3ae6",
   "metadata": {},
   "outputs": [],
   "source": [
    "fowl = Duck('Howard')"
   ]
  },
  {
   "cell_type": "code",
   "execution_count": 12,
   "id": "f6cac475",
   "metadata": {},
   "outputs": [
    {
     "name": "stdout",
     "output_type": "stream",
     "text": [
      "inside the getter\n"
     ]
    },
    {
     "data": {
      "text/plain": [
       "'Howard'"
      ]
     },
     "execution_count": 12,
     "metadata": {},
     "output_type": "execute_result"
    }
   ],
   "source": [
    "fowl.name"
   ]
  },
  {
   "cell_type": "code",
   "execution_count": 13,
   "id": "cba7ded3",
   "metadata": {},
   "outputs": [
    {
     "name": "stdout",
     "output_type": "stream",
     "text": [
      "inside the setter\n"
     ]
    }
   ],
   "source": [
    "fowl.name= 'Donald'"
   ]
  },
  {
   "cell_type": "code",
   "execution_count": 14,
   "id": "5218aedb",
   "metadata": {},
   "outputs": [
    {
     "name": "stdout",
     "output_type": "stream",
     "text": [
      "inside the getter\n"
     ]
    },
    {
     "data": {
      "text/plain": [
       "'Donald'"
      ]
     },
     "execution_count": 14,
     "metadata": {},
     "output_type": "execute_result"
    }
   ],
   "source": [
    "fowl.name"
   ]
  },
  {
   "cell_type": "code",
   "execution_count": 15,
   "id": "70d60088",
   "metadata": {},
   "outputs": [
    {
     "data": {
      "text/plain": [
       "'Donald'"
      ]
     },
     "execution_count": 15,
     "metadata": {},
     "output_type": "execute_result"
    }
   ],
   "source": [
    "fowl.hidden_name"
   ]
  },
  {
   "cell_type": "markdown",
   "id": "a812e21e",
   "metadata": {},
   "source": [
    "## 4 Examples of Object Oriented Programming"
   ]
  },
  {
   "cell_type": "markdown",
   "id": "bea91af6",
   "metadata": {},
   "source": [
    "###### -Inheritance\n",
    "We can create classes from old classes, and the new ones inherent aspects of the old ones"
   ]
  },
  {
   "cell_type": "markdown",
   "id": "84e16a22",
   "metadata": {},
   "source": [
    "###### -Encapsulation\n",
    "Objects contain data and functions"
   ]
  },
  {
   "cell_type": "markdown",
   "id": "bf003208",
   "metadata": {},
   "source": [
    "###### -Abstraction\n",
    "we remove unnecessary details, allowing the user to focus only on what is necessary\n",
    "when we create an object, there's a whole lot behind the scenes"
   ]
  },
  {
   "cell_type": "markdown",
   "id": "ea69a1a2",
   "metadata": {},
   "source": [
    "###### -Polymorphism\n",
    "What an object does when there is a method call depends on the class of the object\n",
    "Have a function that works across different classes"
   ]
  },
  {
   "cell_type": "code",
   "execution_count": 20,
   "id": "fbe6b771",
   "metadata": {},
   "outputs": [
    {
     "name": "stdout",
     "output_type": "stream",
     "text": [
      "I have a cow named Bessie\n"
     ]
    }
   ],
   "source": [
    "class Cow:\n",
    "    def __init__(self, name, age, weight):\n",
    "        self.name = name\n",
    "        self.age = age\n",
    "        self.weight = weight\n",
    "        \n",
    "class Holstein(Cow):\n",
    "    pass\n",
    "\n",
    "Bessie = Holstein('Bessie', 8, 1800)\n",
    "print(f'I have a cow named {Bessie.name}')"
   ]
  },
  {
   "cell_type": "code",
   "execution_count": 22,
   "id": "bb320749",
   "metadata": {},
   "outputs": [],
   "source": [
    "class Cat:\n",
    "    def __init__(self, name, breed):\n",
    "        self.name = name\n",
    "        self.breed = breed"
   ]
  },
  {
   "cell_type": "code",
   "execution_count": 23,
   "id": "e834f139",
   "metadata": {},
   "outputs": [
    {
     "data": {
      "text/plain": [
       "<__main__.Cat at 0x2523138b970>"
      ]
     },
     "execution_count": 23,
     "metadata": {},
     "output_type": "execute_result"
    }
   ],
   "source": [
    "Cat('Fred', 'Tuxedo')"
   ]
  },
  {
   "cell_type": "code",
   "execution_count": 25,
   "id": "337abedb",
   "metadata": {},
   "outputs": [
    {
     "ename": "TypeError",
     "evalue": "__init__() missing 1 required positional argument: 'breed'",
     "output_type": "error",
     "traceback": [
      "\u001b[1;31m---------------------------------------------------------------------------\u001b[0m",
      "\u001b[1;31mTypeError\u001b[0m                                 Traceback (most recent call last)",
      "\u001b[1;32m~\\AppData\\Local\\Temp/ipykernel_25004/489453182.py\u001b[0m in \u001b[0;36m<module>\u001b[1;34m\u001b[0m\n\u001b[1;32m----> 1\u001b[1;33m \u001b[0mCat\u001b[0m\u001b[1;33m.\u001b[0m\u001b[0m__init__\u001b[0m\u001b[1;33m(\u001b[0m\u001b[1;34m'Fred'\u001b[0m\u001b[1;33m,\u001b[0m \u001b[1;34m'Tuxedo'\u001b[0m\u001b[1;33m)\u001b[0m\u001b[1;33m\u001b[0m\u001b[1;33m\u001b[0m\u001b[0m\n\u001b[0m",
      "\u001b[1;31mTypeError\u001b[0m: __init__() missing 1 required positional argument: 'breed'"
     ]
    }
   ],
   "source": [
    "Cat.__init__('Fred', 'Tuxedo')"
   ]
  },
  {
   "cell_type": "code",
   "execution_count": 27,
   "id": "749f1550",
   "metadata": {},
   "outputs": [
    {
     "ename": "NameError",
     "evalue": "name 'self' is not defined",
     "output_type": "error",
     "traceback": [
      "\u001b[1;31m---------------------------------------------------------------------------\u001b[0m",
      "\u001b[1;31mNameError\u001b[0m                                 Traceback (most recent call last)",
      "\u001b[1;32m~\\AppData\\Local\\Temp/ipykernel_25004/249224733.py\u001b[0m in \u001b[0;36m<module>\u001b[1;34m\u001b[0m\n\u001b[1;32m----> 1\u001b[1;33m \u001b[0mCat\u001b[0m\u001b[1;33m(\u001b[0m\u001b[0mself\u001b[0m\u001b[1;33m,\u001b[0m \u001b[1;34m'Fred'\u001b[0m\u001b[1;33m,\u001b[0m \u001b[1;34m'tuxedo'\u001b[0m\u001b[1;33m)\u001b[0m\u001b[1;33m\u001b[0m\u001b[1;33m\u001b[0m\u001b[0m\n\u001b[0m",
      "\u001b[1;31mNameError\u001b[0m: name 'self' is not defined"
     ]
    }
   ],
   "source": [
    "Cat(self, 'Fred', 'tuxedo')"
   ]
  },
  {
   "cell_type": "code",
   "execution_count": null,
   "id": "2189a23b",
   "metadata": {},
   "outputs": [],
   "source": []
  }
 ],
 "metadata": {
  "kernelspec": {
   "display_name": "Python 3 (ipykernel)",
   "language": "python",
   "name": "python3"
  },
  "language_info": {
   "codemirror_mode": {
    "name": "ipython",
    "version": 3
   },
   "file_extension": ".py",
   "mimetype": "text/x-python",
   "name": "python",
   "nbconvert_exporter": "python",
   "pygments_lexer": "ipython3",
   "version": "3.9.7"
  }
 },
 "nbformat": 4,
 "nbformat_minor": 5
}
